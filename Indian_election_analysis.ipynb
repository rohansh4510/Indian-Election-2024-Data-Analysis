{
 "cells": [
  {
   "cell_type": "code",
   "execution_count": 1,
   "id": "7cbc71d0-c211-4cf5-9b68-5d05ca3b981a",
   "metadata": {},
   "outputs": [],
   "source": [
    "import pandas as pd\n",
    "import numpy as np\n",
    "import matplotlib.pyplot as plt\n",
    "import seaborn as sns"
   ]
  },
  {
   "cell_type": "code",
   "execution_count": 2,
   "id": "c14b0925-fa32-40b9-bc35-99803ef7725d",
   "metadata": {},
   "outputs": [],
   "source": [
    "data=pd.read_csv('results (4).csv')"
   ]
  },
  {
   "cell_type": "code",
   "execution_count": 3,
   "id": "5ea1def9-0e7e-4866-98cb-7f957bf5bc5c",
   "metadata": {},
   "outputs": [
    {
     "data": {
      "text/html": [
       "<div>\n",
       "<style scoped>\n",
       "    .dataframe tbody tr th:only-of-type {\n",
       "        vertical-align: middle;\n",
       "    }\n",
       "\n",
       "    .dataframe tbody tr th {\n",
       "        vertical-align: top;\n",
       "    }\n",
       "\n",
       "    .dataframe thead th {\n",
       "        text-align: right;\n",
       "    }\n",
       "</style>\n",
       "<table border=\"1\" class=\"dataframe\">\n",
       "  <thead>\n",
       "    <tr style=\"text-align: right;\">\n",
       "      <th></th>\n",
       "      <th>Constituency</th>\n",
       "      <th>Const. No.</th>\n",
       "      <th>Leading Candidate</th>\n",
       "      <th>Leading Party</th>\n",
       "      <th>Trailing Candidate</th>\n",
       "      <th>Trailing Party</th>\n",
       "      <th>Margin</th>\n",
       "    </tr>\n",
       "  </thead>\n",
       "  <tbody>\n",
       "    <tr>\n",
       "      <th>0</th>\n",
       "      <td>Agra</td>\n",
       "      <td>18</td>\n",
       "      <td>PROF S P SINGH BAGHEL</td>\n",
       "      <td>Bharatiya Janata Party</td>\n",
       "      <td>SURESH CHAND KARDAM</td>\n",
       "      <td>Samajwadi Party</td>\n",
       "      <td>271294</td>\n",
       "    </tr>\n",
       "    <tr>\n",
       "      <th>1</th>\n",
       "      <td>Akbarpur</td>\n",
       "      <td>44</td>\n",
       "      <td>DEVENDRA SINGH ALIAS BHOLE SINGH</td>\n",
       "      <td>Bharatiya Janata Party</td>\n",
       "      <td>RAJARAM PAL</td>\n",
       "      <td>Samajwadi Party</td>\n",
       "      <td>44345</td>\n",
       "    </tr>\n",
       "    <tr>\n",
       "      <th>2</th>\n",
       "      <td>Aligarh</td>\n",
       "      <td>15</td>\n",
       "      <td>SATISH KUMAR GAUTAM</td>\n",
       "      <td>Bharatiya Janata Party</td>\n",
       "      <td>BIJENDRA SINGH</td>\n",
       "      <td>Samajwadi Party</td>\n",
       "      <td>15647</td>\n",
       "    </tr>\n",
       "    <tr>\n",
       "      <th>3</th>\n",
       "      <td>Allahabad</td>\n",
       "      <td>52</td>\n",
       "      <td>UJJWAL RAMAN SINGH</td>\n",
       "      <td>Indian National Congress</td>\n",
       "      <td>NEERAJ TRIPATHI</td>\n",
       "      <td>Bharatiya Janata Party</td>\n",
       "      <td>58795</td>\n",
       "    </tr>\n",
       "    <tr>\n",
       "      <th>4</th>\n",
       "      <td>Ambedkar Nagar</td>\n",
       "      <td>55</td>\n",
       "      <td>LALJI VERMA</td>\n",
       "      <td>Samajwadi Party</td>\n",
       "      <td>RITESH PANDEY</td>\n",
       "      <td>Bharatiya Janata Party</td>\n",
       "      <td>137247</td>\n",
       "    </tr>\n",
       "  </tbody>\n",
       "</table>\n",
       "</div>"
      ],
      "text/plain": [
       "     Constituency  Const. No.                 Leading Candidate  \\\n",
       "0            Agra          18             PROF S P SINGH BAGHEL   \n",
       "1        Akbarpur          44  DEVENDRA SINGH ALIAS BHOLE SINGH   \n",
       "2         Aligarh          15               SATISH KUMAR GAUTAM   \n",
       "3       Allahabad          52                UJJWAL RAMAN SINGH   \n",
       "4  Ambedkar Nagar          55                       LALJI VERMA   \n",
       "\n",
       "              Leading Party   Trailing Candidate          Trailing Party  \\\n",
       "0    Bharatiya Janata Party  SURESH CHAND KARDAM         Samajwadi Party   \n",
       "1    Bharatiya Janata Party          RAJARAM PAL         Samajwadi Party   \n",
       "2    Bharatiya Janata Party       BIJENDRA SINGH         Samajwadi Party   \n",
       "3  Indian National Congress      NEERAJ TRIPATHI  Bharatiya Janata Party   \n",
       "4           Samajwadi Party        RITESH PANDEY  Bharatiya Janata Party   \n",
       "\n",
       "   Margin  \n",
       "0  271294  \n",
       "1   44345  \n",
       "2   15647  \n",
       "3   58795  \n",
       "4  137247  "
      ]
     },
     "execution_count": 3,
     "metadata": {},
     "output_type": "execute_result"
    }
   ],
   "source": [
    "data.head()"
   ]
  },
  {
   "cell_type": "code",
   "execution_count": 4,
   "id": "a0ad4046-40d5-4a49-830c-e3e9986882a1",
   "metadata": {},
   "outputs": [],
   "source": [
    "data.rename(columns={'tablescraper-selected-row':'Constituency'},inplace=True)"
   ]
  },
  {
   "cell_type": "code",
   "execution_count": 5,
   "id": "7a50fa21-a5e4-4ee6-9ee3-4a10659575c2",
   "metadata": {},
   "outputs": [
    {
     "data": {
      "text/html": [
       "<div>\n",
       "<style scoped>\n",
       "    .dataframe tbody tr th:only-of-type {\n",
       "        vertical-align: middle;\n",
       "    }\n",
       "\n",
       "    .dataframe tbody tr th {\n",
       "        vertical-align: top;\n",
       "    }\n",
       "\n",
       "    .dataframe thead th {\n",
       "        text-align: right;\n",
       "    }\n",
       "</style>\n",
       "<table border=\"1\" class=\"dataframe\">\n",
       "  <thead>\n",
       "    <tr style=\"text-align: right;\">\n",
       "      <th></th>\n",
       "      <th>Constituency</th>\n",
       "      <th>Const. No.</th>\n",
       "      <th>Leading Candidate</th>\n",
       "      <th>Leading Party</th>\n",
       "      <th>Trailing Candidate</th>\n",
       "      <th>Trailing Party</th>\n",
       "      <th>Margin</th>\n",
       "    </tr>\n",
       "  </thead>\n",
       "  <tbody>\n",
       "    <tr>\n",
       "      <th>0</th>\n",
       "      <td>Agra</td>\n",
       "      <td>18</td>\n",
       "      <td>PROF S P SINGH BAGHEL</td>\n",
       "      <td>Bharatiya Janata Party</td>\n",
       "      <td>SURESH CHAND KARDAM</td>\n",
       "      <td>Samajwadi Party</td>\n",
       "      <td>271294</td>\n",
       "    </tr>\n",
       "    <tr>\n",
       "      <th>1</th>\n",
       "      <td>Akbarpur</td>\n",
       "      <td>44</td>\n",
       "      <td>DEVENDRA SINGH ALIAS BHOLE SINGH</td>\n",
       "      <td>Bharatiya Janata Party</td>\n",
       "      <td>RAJARAM PAL</td>\n",
       "      <td>Samajwadi Party</td>\n",
       "      <td>44345</td>\n",
       "    </tr>\n",
       "    <tr>\n",
       "      <th>2</th>\n",
       "      <td>Aligarh</td>\n",
       "      <td>15</td>\n",
       "      <td>SATISH KUMAR GAUTAM</td>\n",
       "      <td>Bharatiya Janata Party</td>\n",
       "      <td>BIJENDRA SINGH</td>\n",
       "      <td>Samajwadi Party</td>\n",
       "      <td>15647</td>\n",
       "    </tr>\n",
       "    <tr>\n",
       "      <th>3</th>\n",
       "      <td>Allahabad</td>\n",
       "      <td>52</td>\n",
       "      <td>UJJWAL RAMAN SINGH</td>\n",
       "      <td>Indian National Congress</td>\n",
       "      <td>NEERAJ TRIPATHI</td>\n",
       "      <td>Bharatiya Janata Party</td>\n",
       "      <td>58795</td>\n",
       "    </tr>\n",
       "    <tr>\n",
       "      <th>4</th>\n",
       "      <td>Ambedkar Nagar</td>\n",
       "      <td>55</td>\n",
       "      <td>LALJI VERMA</td>\n",
       "      <td>Samajwadi Party</td>\n",
       "      <td>RITESH PANDEY</td>\n",
       "      <td>Bharatiya Janata Party</td>\n",
       "      <td>137247</td>\n",
       "    </tr>\n",
       "  </tbody>\n",
       "</table>\n",
       "</div>"
      ],
      "text/plain": [
       "     Constituency  Const. No.                 Leading Candidate  \\\n",
       "0            Agra          18             PROF S P SINGH BAGHEL   \n",
       "1        Akbarpur          44  DEVENDRA SINGH ALIAS BHOLE SINGH   \n",
       "2         Aligarh          15               SATISH KUMAR GAUTAM   \n",
       "3       Allahabad          52                UJJWAL RAMAN SINGH   \n",
       "4  Ambedkar Nagar          55                       LALJI VERMA   \n",
       "\n",
       "              Leading Party   Trailing Candidate          Trailing Party  \\\n",
       "0    Bharatiya Janata Party  SURESH CHAND KARDAM         Samajwadi Party   \n",
       "1    Bharatiya Janata Party          RAJARAM PAL         Samajwadi Party   \n",
       "2    Bharatiya Janata Party       BIJENDRA SINGH         Samajwadi Party   \n",
       "3  Indian National Congress      NEERAJ TRIPATHI  Bharatiya Janata Party   \n",
       "4           Samajwadi Party        RITESH PANDEY  Bharatiya Janata Party   \n",
       "\n",
       "   Margin  \n",
       "0  271294  \n",
       "1   44345  \n",
       "2   15647  \n",
       "3   58795  \n",
       "4  137247  "
      ]
     },
     "execution_count": 5,
     "metadata": {},
     "output_type": "execute_result"
    }
   ],
   "source": [
    "data.head()"
   ]
  },
  {
   "cell_type": "code",
   "execution_count": 6,
   "id": "4c55b11b-a1ca-43de-a40c-f98fb40ca0a6",
   "metadata": {},
   "outputs": [],
   "source": [
    "data.rename(columns={'tablescraper-selected-row 2':'Const. No.','tablescraper-selected-row 3':'Leading Candidate','tablescraper-selected-row 4':'Leading Party'},inplace=True)"
   ]
  },
  {
   "cell_type": "code",
   "execution_count": 7,
   "id": "f9c238d8-eef9-427f-8e18-5129763d5c53",
   "metadata": {},
   "outputs": [
    {
     "data": {
      "text/html": [
       "<div>\n",
       "<style scoped>\n",
       "    .dataframe tbody tr th:only-of-type {\n",
       "        vertical-align: middle;\n",
       "    }\n",
       "\n",
       "    .dataframe tbody tr th {\n",
       "        vertical-align: top;\n",
       "    }\n",
       "\n",
       "    .dataframe thead th {\n",
       "        text-align: right;\n",
       "    }\n",
       "</style>\n",
       "<table border=\"1\" class=\"dataframe\">\n",
       "  <thead>\n",
       "    <tr style=\"text-align: right;\">\n",
       "      <th></th>\n",
       "      <th>Constituency</th>\n",
       "      <th>Const. No.</th>\n",
       "      <th>Leading Candidate</th>\n",
       "      <th>Leading Party</th>\n",
       "      <th>Trailing Candidate</th>\n",
       "      <th>Trailing Party</th>\n",
       "      <th>Margin</th>\n",
       "    </tr>\n",
       "  </thead>\n",
       "  <tbody>\n",
       "    <tr>\n",
       "      <th>0</th>\n",
       "      <td>Agra</td>\n",
       "      <td>18</td>\n",
       "      <td>PROF S P SINGH BAGHEL</td>\n",
       "      <td>Bharatiya Janata Party</td>\n",
       "      <td>SURESH CHAND KARDAM</td>\n",
       "      <td>Samajwadi Party</td>\n",
       "      <td>271294</td>\n",
       "    </tr>\n",
       "    <tr>\n",
       "      <th>1</th>\n",
       "      <td>Akbarpur</td>\n",
       "      <td>44</td>\n",
       "      <td>DEVENDRA SINGH ALIAS BHOLE SINGH</td>\n",
       "      <td>Bharatiya Janata Party</td>\n",
       "      <td>RAJARAM PAL</td>\n",
       "      <td>Samajwadi Party</td>\n",
       "      <td>44345</td>\n",
       "    </tr>\n",
       "    <tr>\n",
       "      <th>2</th>\n",
       "      <td>Aligarh</td>\n",
       "      <td>15</td>\n",
       "      <td>SATISH KUMAR GAUTAM</td>\n",
       "      <td>Bharatiya Janata Party</td>\n",
       "      <td>BIJENDRA SINGH</td>\n",
       "      <td>Samajwadi Party</td>\n",
       "      <td>15647</td>\n",
       "    </tr>\n",
       "    <tr>\n",
       "      <th>3</th>\n",
       "      <td>Allahabad</td>\n",
       "      <td>52</td>\n",
       "      <td>UJJWAL RAMAN SINGH</td>\n",
       "      <td>Indian National Congress</td>\n",
       "      <td>NEERAJ TRIPATHI</td>\n",
       "      <td>Bharatiya Janata Party</td>\n",
       "      <td>58795</td>\n",
       "    </tr>\n",
       "    <tr>\n",
       "      <th>4</th>\n",
       "      <td>Ambedkar Nagar</td>\n",
       "      <td>55</td>\n",
       "      <td>LALJI VERMA</td>\n",
       "      <td>Samajwadi Party</td>\n",
       "      <td>RITESH PANDEY</td>\n",
       "      <td>Bharatiya Janata Party</td>\n",
       "      <td>137247</td>\n",
       "    </tr>\n",
       "  </tbody>\n",
       "</table>\n",
       "</div>"
      ],
      "text/plain": [
       "     Constituency  Const. No.                 Leading Candidate  \\\n",
       "0            Agra          18             PROF S P SINGH BAGHEL   \n",
       "1        Akbarpur          44  DEVENDRA SINGH ALIAS BHOLE SINGH   \n",
       "2         Aligarh          15               SATISH KUMAR GAUTAM   \n",
       "3       Allahabad          52                UJJWAL RAMAN SINGH   \n",
       "4  Ambedkar Nagar          55                       LALJI VERMA   \n",
       "\n",
       "              Leading Party   Trailing Candidate          Trailing Party  \\\n",
       "0    Bharatiya Janata Party  SURESH CHAND KARDAM         Samajwadi Party   \n",
       "1    Bharatiya Janata Party          RAJARAM PAL         Samajwadi Party   \n",
       "2    Bharatiya Janata Party       BIJENDRA SINGH         Samajwadi Party   \n",
       "3  Indian National Congress      NEERAJ TRIPATHI  Bharatiya Janata Party   \n",
       "4           Samajwadi Party        RITESH PANDEY  Bharatiya Janata Party   \n",
       "\n",
       "   Margin  \n",
       "0  271294  \n",
       "1   44345  \n",
       "2   15647  \n",
       "3   58795  \n",
       "4  137247  "
      ]
     },
     "execution_count": 7,
     "metadata": {},
     "output_type": "execute_result"
    }
   ],
   "source": [
    "data.head()"
   ]
  },
  {
   "cell_type": "code",
   "execution_count": 10,
   "id": "bec2e3c3-f597-4993-9e0c-853350dd5838",
   "metadata": {},
   "outputs": [],
   "source": [
    "data.rename(columns={'tablescraper-selected-row 5': 'Trailing Candidate',\n",
    "                     'tablescraper-selected-row 6': 'Trailing Party',\n",
    "                     'tablescraper-selected-row 7': 'Margin'}, inplace=True)\n"
   ]
  },
  {
   "cell_type": "code",
   "execution_count": null,
   "id": "1028cef5-fbcc-4fe4-aa58-af8611b9a203",
   "metadata": {},
   "outputs": [],
   "source": [
    "data.head()"
   ]
  },
  {
   "cell_type": "code",
   "execution_count": null,
   "id": "85280ba0-92a7-462b-a36f-bd44548d14d9",
   "metadata": {},
   "outputs": [],
   "source": [
    "data=data.drop(columns=['table 6','table 15'])"
   ]
  },
  {
   "cell_type": "code",
   "execution_count": null,
   "id": "97e8b6a4-87cd-4d97-a17a-4f9e565cf3cb",
   "metadata": {},
   "outputs": [],
   "source": [
    "data.head()"
   ]
  },
  {
   "cell_type": "code",
   "execution_count": null,
   "id": "7d50a86b-229a-46bf-a2e8-5de19969f2aa",
   "metadata": {},
   "outputs": [],
   "source": [
    "data.to_csv('results (4).csv',index=False)"
   ]
  },
  {
   "cell_type": "markdown",
   "id": "2043650a-fff9-48dd-a517-199e7a206bb4",
   "metadata": {},
   "source": [
    "Uttar Pradesh Data Preparation"
   ]
  },
  {
   "cell_type": "code",
   "execution_count": null,
   "id": "bbcf43fd-7e94-4439-91f9-d2a096306410",
   "metadata": {},
   "outputs": [],
   "source": [
    "data1=pd.read_csv('results (5).csv')\n",
    "data2=pd.read_csv('results (6).csv')\n",
    "data3=pd.read_csv('results (7).csv')"
   ]
  },
  {
   "cell_type": "code",
   "execution_count": null,
   "id": "84d66611-0f41-44f4-9bb4-655e76060b68",
   "metadata": {},
   "outputs": [],
   "source": [
    "data1.rename(columns={\n",
    "    'tablescraper-selected-row': 'Constituency',\n",
    "    'tablescraper-selected-row 2': 'Const. No.',\n",
    "    'tablescraper-selected-row 3': 'Leading Candidate',\n",
    "    'tablescraper-selected-row 4': 'Leading Party',\n",
    "    'tablescraper-selected-row 5': 'Trailing Candidate',\n",
    "    'tablescraper-selected-row 6': 'Trailing Party',\n",
    "    'tablescraper-selected-row 7': 'Margin'\n",
    "}, inplace=True)\n",
    "data2.rename(columns={\n",
    "    'tablescraper-selected-row': 'Constituency',\n",
    "    'tablescraper-selected-row 2': 'Const. No.',\n",
    "    'tablescraper-selected-row 3': 'Leading Candidate',\n",
    "    'tablescraper-selected-row 4': 'Leading Party',\n",
    "    'tablescraper-selected-row 5': 'Trailing Candidate',\n",
    "    'tablescraper-selected-row 6': 'Trailing Party',\n",
    "    'tablescraper-selected-row 7': 'Margin'\n",
    "}, inplace=True)\n",
    "data3.rename(columns={\n",
    "    'tablescraper-selected-row': 'Constituency',\n",
    "    'tablescraper-selected-row 2': 'Const. No.',\n",
    "    'tablescraper-selected-row 3': 'Leading Candidate',\n",
    "    'tablescraper-selected-row 4': 'Leading Party',\n",
    "    'tablescraper-selected-row 5': 'Trailing Candidate',\n",
    "    'tablescraper-selected-row 6': 'Trailing Party',\n",
    "    'tablescraper-selected-row 7': 'Margin'\n",
    "}, inplace=True)\n",
    "\n",
    "\n"
   ]
  },
  {
   "cell_type": "code",
   "execution_count": null,
   "id": "6ae3a86a-3674-4ad9-adb9-54b0f484eedc",
   "metadata": {},
   "outputs": [],
   "source": [
    "data1=data1.drop(columns=['table 6','table 15'])"
   ]
  },
  {
   "cell_type": "code",
   "execution_count": null,
   "id": "bb4c1366-a4c8-4f72-8b8f-b300674b2587",
   "metadata": {},
   "outputs": [],
   "source": [
    "data2=data2.drop(columns=['table 6','table 15'])"
   ]
  },
  {
   "cell_type": "code",
   "execution_count": null,
   "id": "c2db67fe-9573-4cb4-b151-bd5d8e85ac6a",
   "metadata": {},
   "outputs": [],
   "source": [
    "data3=data3.drop(columns=['table 6','table 15'])"
   ]
  },
  {
   "cell_type": "code",
   "execution_count": null,
   "id": "a7e1f8a5-f00a-4e92-aeb6-4e2f2092a263",
   "metadata": {},
   "outputs": [],
   "source": [
    "data1.head()"
   ]
  },
  {
   "cell_type": "code",
   "execution_count": null,
   "id": "fc8b8c3e-8c43-4dcf-9aee-f3f88c0c4474",
   "metadata": {},
   "outputs": [],
   "source": [
    "data2.head()"
   ]
  },
  {
   "cell_type": "code",
   "execution_count": null,
   "id": "879c2f95-3eb2-4ac6-8f34-4fd840c3009e",
   "metadata": {},
   "outputs": [],
   "source": [
    "data3.head()"
   ]
  },
  {
   "cell_type": "code",
   "execution_count": null,
   "id": "c3b11056-6bd5-4da2-a270-86d79595100e",
   "metadata": {},
   "outputs": [],
   "source": [
    "data1.to_csv('results (5).csv',index=False)\n",
    "data2.to_csv('results (6).csv',index=False)\n",
    "data3.to_csv('results (7).csv',index=False)"
   ]
  },
  {
   "cell_type": "code",
   "execution_count": null,
   "id": "adaacbf2-753f-45a7-a50e-9f390fa8a395",
   "metadata": {},
   "outputs": [],
   "source": [
    "\n",
    "# List of CSV file paths\n",
    "file_paths = [\n",
    "    'results (4).csv',\n",
    "    'results (5).csv',\n",
    "    'results (6).csv',\n",
    "    'results (7).csv'\n",
    "]\n",
    "\n",
    "# Read and concatenate all CSV files\n",
    "df_list = [pd.read_csv(file) for file in file_paths]\n",
    "merged_df = pd.concat(df_list, ignore_index=True)\n",
    "\n",
    "# Save the merged DataFrame to a new CSV file\n",
    "merged_df.to_csv('merged_results.csv', index=False)\n"
   ]
  },
  {
   "cell_type": "code",
   "execution_count": null,
   "id": "646b01f0-1ee6-4e91-8a09-109dc9f9bcb7",
   "metadata": {},
   "outputs": [],
   "source": [
    "merged_df.head()"
   ]
  },
  {
   "cell_type": "code",
   "execution_count": null,
   "id": "37ff5de8-fbcd-42b9-b2a0-b64045851220",
   "metadata": {},
   "outputs": [],
   "source": [
    "merged_df.shape"
   ]
  },
  {
   "cell_type": "markdown",
   "id": "5d49a69f-1876-4050-b0c1-cffe99154433",
   "metadata": {},
   "source": [
    "Andaman & Nicobar Island Data Preparation"
   ]
  },
  {
   "cell_type": "code",
   "execution_count": null,
   "id": "197479cb-4c85-4958-b525-2426e71b1b5a",
   "metadata": {},
   "outputs": [],
   "source": [
    "andaman_data=pd.read_csv('Andaman(result).csv')"
   ]
  },
  {
   "cell_type": "code",
   "execution_count": null,
   "id": "4b77df12-7009-4bea-a3cc-04691fe6fbd6",
   "metadata": {},
   "outputs": [],
   "source": [
    "andaman_data.head()"
   ]
  },
  {
   "cell_type": "code",
   "execution_count": null,
   "id": "acfb0f17-21d8-4375-a999-294b61ff08fb",
   "metadata": {},
   "outputs": [],
   "source": [
    "andaman_data.rename(columns={'Leading party':'Leading Party'})"
   ]
  },
  {
   "cell_type": "markdown",
   "id": "cdbe7948-d9c7-4446-bbb4-348317d3c2c8",
   "metadata": {},
   "source": [
    "Andhra Pradesh data preparation"
   ]
  },
  {
   "cell_type": "code",
   "execution_count": null,
   "id": "ca54272b-4d82-491c-839a-6a4b6c353128",
   "metadata": {},
   "outputs": [],
   "source": [
    "andhra_data=pd.read_csv('AndraPradesh(result).csv')"
   ]
  },
  {
   "cell_type": "code",
   "execution_count": null,
   "id": "1b14cec1-e6c3-4b27-a1ec-a9ff280cc27d",
   "metadata": {},
   "outputs": [],
   "source": [
    "andhra_data.rename(columns={\n",
    "    'tablescraper-selected-row': 'Constituency',\n",
    "    'tablescraper-selected-row 2': 'Const. No.',\n",
    "    'tablescraper-selected-row 3': 'Leading Candidate',\n",
    "    'tablescraper-selected-row 4': 'Leading Party',\n",
    "    'tablescraper-selected-row 5': 'Trailing Candidate',\n",
    "    'tablescraper-selected-row 6': 'Trailing Party',\n",
    "    'tablescraper-selected-row 7': 'Margin'\n",
    "}, inplace=True)"
   ]
  },
  {
   "cell_type": "code",
   "execution_count": null,
   "id": "199dbdc6-ee6f-4225-b98e-f00b03e80445",
   "metadata": {},
   "outputs": [],
   "source": [
    "\n",
    "andhra_data.head()"
   ]
  },
  {
   "cell_type": "markdown",
   "id": "363d098f-0278-4cda-a7f3-9f70d887b76e",
   "metadata": {},
   "source": [
    "Arunachal Pradesh data preparation"
   ]
  },
  {
   "cell_type": "code",
   "execution_count": null,
   "id": "3aaa6a73-98ce-4eeb-821b-73c76735e65f",
   "metadata": {},
   "outputs": [],
   "source": [
    "arunachal_data=pd.read_csv('Arunachal(result).csv')"
   ]
  },
  {
   "cell_type": "code",
   "execution_count": null,
   "id": "cb0c65d3-874c-43b5-ac1d-224b33e87be1",
   "metadata": {},
   "outputs": [],
   "source": [
    "andhra_data = andhra_data.loc[:, ~andhra_data.columns.str.contains('^Unnamed')]\n"
   ]
  },
  {
   "cell_type": "code",
   "execution_count": null,
   "id": "6162d031-4fed-4c7f-8fd2-7ce36a4764df",
   "metadata": {},
   "outputs": [],
   "source": [
    "andhra_data.head()"
   ]
  },
  {
   "cell_type": "code",
   "execution_count": null,
   "id": "cb3d4cf4-1a63-4535-a381-7cceb893e1af",
   "metadata": {},
   "outputs": [],
   "source": [
    "arunachal_data.head()"
   ]
  },
  {
   "cell_type": "markdown",
   "id": "5e83e133-f4a1-4c73-86ee-ca032e7356a8",
   "metadata": {},
   "source": [
    "Assam data Preparation"
   ]
  },
  {
   "cell_type": "code",
   "execution_count": null,
   "id": "dfd68083-6dc8-4941-b75f-e1f9e21b41b2",
   "metadata": {},
   "outputs": [],
   "source": [
    "assam_data=pd.read_csv('Assam(result).csv')"
   ]
  },
  {
   "cell_type": "code",
   "execution_count": null,
   "id": "0f4b7820-e894-4389-a515-86c80f0bd67c",
   "metadata": {},
   "outputs": [],
   "source": [
    "assam_data.head()"
   ]
  },
  {
   "cell_type": "code",
   "execution_count": null,
   "id": "3c129908-0d39-42f4-ba7c-8cabb75c9d52",
   "metadata": {},
   "outputs": [],
   "source": [
    "assam_data.rename(columns={\n",
    "    'tablescraper-selected-row': 'Constituency',\n",
    "    'tablescraper-selected-row 2': 'Const. No.',\n",
    "    'tablescraper-selected-row 3': 'Leading Candidate',\n",
    "    'tablescraper-selected-row 4': 'Leading Party',\n",
    "    'tablescraper-selected-row 5': 'Trailing Candidate',\n",
    "    'tablescraper-selected-row 6': 'Trailing Party',\n",
    "    'tablescraper-selected-row 7': 'Margin'\n",
    "}, inplace=True)"
   ]
  },
  {
   "cell_type": "code",
   "execution_count": null,
   "id": "97525f0d-2720-49a3-bec9-6f214dc07dbc",
   "metadata": {},
   "outputs": [],
   "source": [
    "assam_data=assam_data.drop(columns=['table 6','table 15'])"
   ]
  },
  {
   "cell_type": "code",
   "execution_count": null,
   "id": "0b696c96-42aa-4804-b151-73b247d11f33",
   "metadata": {},
   "outputs": [],
   "source": [
    "assam_data.head()"
   ]
  },
  {
   "cell_type": "code",
   "execution_count": null,
   "id": "c820d581-25eb-4896-9132-3ffd675cb6cc",
   "metadata": {},
   "outputs": [],
   "source": [
    "andhra_data.to_csv('AndraPradesh(result).csv',index=False)"
   ]
  },
  {
   "cell_type": "code",
   "execution_count": null,
   "id": "0d61781f-7463-4070-9d96-843d56d4c6fe",
   "metadata": {},
   "outputs": [],
   "source": [
    "assam_data.to_csv('Assam(result).csv',index=False)"
   ]
  },
  {
   "cell_type": "markdown",
   "id": "6b54ba27-fd0a-402c-bfcb-09f10d9efcfb",
   "metadata": {},
   "source": [
    "Bihar data Preparation"
   ]
  },
  {
   "cell_type": "code",
   "execution_count": null,
   "id": "098c23c6-91d0-4eab-a91a-92d396d30351",
   "metadata": {},
   "outputs": [],
   "source": [
    "bihar1_data=pd.read_csv('Bihar_1(result).csv')\n",
    "bihar2_data=pd.read_csv('Bihar_2(result).csv')"
   ]
  },
  {
   "cell_type": "code",
   "execution_count": null,
   "id": "fb371a72-21f9-41cd-b8d1-10037f61a798",
   "metadata": {},
   "outputs": [],
   "source": [
    "bihar1_data.rename(columns={\n",
    "    'tablescraper-selected-row': 'Constituency',\n",
    "    'tablescraper-selected-row 2': 'Const. No.',\n",
    "    'tablescraper-selected-row 3': 'Leading Candidate',\n",
    "    'tablescraper-selected-row 4': 'Leading Party',\n",
    "    'tablescraper-selected-row 5': 'Trailing Candidate',\n",
    "    'tablescraper-selected-row 6': 'Trailing Party',\n",
    "    'tablescraper-selected-row 7': 'Margin'\n",
    "}, inplace=True)\n",
    "bihar2_data.rename(columns={\n",
    "    'tablescraper-selected-row': 'Constituency',\n",
    "    'tablescraper-selected-row 2': 'Const. No.',\n",
    "    'tablescraper-selected-row 3': 'Leading Candidate',\n",
    "    'tablescraper-selected-row 4': 'Leading Party',\n",
    "    'tablescraper-selected-row 5': 'Trailing Candidate',\n",
    "    'tablescraper-selected-row 6': 'Trailing Party',\n",
    "    'tablescraper-selected-row 7': 'Margin'\n",
    "}, inplace=True)"
   ]
  },
  {
   "cell_type": "code",
   "execution_count": null,
   "id": "3df2434e-7e54-47eb-bb2e-abdc52156f1c",
   "metadata": {},
   "outputs": [],
   "source": [
    "bihar1_data=bihar1_data.drop(columns=['table 6','table 15'])\n",
    "bihar2_data=bihar2_data.drop(columns=['table 6','table 15'])"
   ]
  },
  {
   "cell_type": "code",
   "execution_count": null,
   "id": "dd5bf274-dec4-4d71-8045-5e16fcbfdccf",
   "metadata": {},
   "outputs": [],
   "source": [
    "bihar1_data.head()"
   ]
  },
  {
   "cell_type": "code",
   "execution_count": null,
   "id": "6aa72171-0271-4a44-9db6-d78a0587e91c",
   "metadata": {},
   "outputs": [],
   "source": [
    "bihar1_data.to_csv('Bihar_1(result).csv',index=False)"
   ]
  },
  {
   "cell_type": "code",
   "execution_count": null,
   "id": "e2063711-e2cf-4dda-b6c7-44a62547739e",
   "metadata": {},
   "outputs": [],
   "source": [
    "bihar2_data.to_csv('Bihar_2(result).csv',index=False)"
   ]
  },
  {
   "cell_type": "code",
   "execution_count": null,
   "id": "e34f7bfd-f11c-425a-a677-8a724714df1e",
   "metadata": {},
   "outputs": [],
   "source": [
    "\n",
    "# Merge the DataFrames\n",
    "bihar_data = pd.concat([bihar1_data, bihar2_data], ignore_index=True)\n",
    "\n",
    "# Display the merged DataFrame\n",
    "bihar_data.head()\n"
   ]
  },
  {
   "cell_type": "code",
   "execution_count": null,
   "id": "604fa6d1-e42d-4e0f-9176-10b3f75446e8",
   "metadata": {},
   "outputs": [],
   "source": [
    "bihar_data.to_csv('bihar_data.csv', index=False)"
   ]
  },
  {
   "cell_type": "markdown",
   "id": "94a3be8e-ae26-47e7-9d3f-1fc0b04de9c3",
   "metadata": {},
   "source": [
    "Chandigarh data Preparation"
   ]
  },
  {
   "cell_type": "code",
   "execution_count": null,
   "id": "552f9df1-8e18-4592-b087-d3013b11a75e",
   "metadata": {},
   "outputs": [],
   "source": [
    "chandi_data=pd.read_csv('Chandigarh(result).csv')\n",
    "chandi_data.head()"
   ]
  },
  {
   "cell_type": "code",
   "execution_count": null,
   "id": "f5993aca-4801-4b07-9b6d-38efd65b74df",
   "metadata": {},
   "outputs": [],
   "source": [
    "chattis_data=pd.read_csv('Chattisgarh(result).csv')\n",
    "chattis_data.head()"
   ]
  },
  {
   "cell_type": "code",
   "execution_count": null,
   "id": "fc5c81dd-8b29-444a-a553-8f228c89fb6f",
   "metadata": {},
   "outputs": [],
   "source": [
    "chattis_data=chattis_data.drop(columns=['table 6','table 15'])\n",
    "chattis_data.rename(columns={\n",
    "    'tablescraper-selected-row': 'Constituency',\n",
    "    'tablescraper-selected-row 2': 'Const. No.',\n",
    "    'tablescraper-selected-row 3': 'Leading Candidate',\n",
    "    'tablescraper-selected-row 4': 'Leading Party',\n",
    "    'tablescraper-selected-row 5': 'Trailing Candidate',\n",
    "    'tablescraper-selected-row 6': 'Trailing Party',\n",
    "    'tablescraper-selected-row 7': 'Margin'\n",
    "}, inplace=True)"
   ]
  },
  {
   "cell_type": "code",
   "execution_count": null,
   "id": "32f4b247-d280-48b9-8894-b63bb1f1dc99",
   "metadata": {},
   "outputs": [],
   "source": [
    "chattis_data.head()"
   ]
  },
  {
   "cell_type": "markdown",
   "id": "4c03e752-c263-4e18-a11b-04702d6ef741",
   "metadata": {},
   "source": [
    "Chattisgarh data Preparation"
   ]
  },
  {
   "cell_type": "code",
   "execution_count": null,
   "id": "b609cd3e-907e-4859-988c-3ffd82cc5c1e",
   "metadata": {},
   "outputs": [],
   "source": [
    "chattis_data.to_csv('Chattisgarh(result).csv',index=False)"
   ]
  },
  {
   "cell_type": "markdown",
   "id": "ae35b339-a37c-4626-93ad-278db430c1f4",
   "metadata": {},
   "source": [
    "Dadar&Nagar haveli and Daman and Diu Data Preparation"
   ]
  },
  {
   "cell_type": "code",
   "execution_count": null,
   "id": "36a58564-294d-459f-a3fc-cdfc0e1fb82f",
   "metadata": {},
   "outputs": [],
   "source": [
    "dadra_data=pd.read_csv('dadra(result).csv')\n",
    "dadra_data.head()"
   ]
  },
  {
   "cell_type": "markdown",
   "id": "e9025a64-982d-4e0f-8d26-a7a202dda26b",
   "metadata": {},
   "source": [
    "Goa data Preparation"
   ]
  },
  {
   "cell_type": "code",
   "execution_count": null,
   "id": "2c38b523-dcaa-4dd6-a791-aefbc4d8b66f",
   "metadata": {},
   "outputs": [],
   "source": [
    "goa_data=pd.read_csv('goa(result).csv')\n",
    "goa_data.head()"
   ]
  },
  {
   "cell_type": "markdown",
   "id": "d76526f0-f3b5-4062-a5ff-383aeb1cccf5",
   "metadata": {},
   "source": [
    "Gujarat Data Preparation"
   ]
  },
  {
   "cell_type": "code",
   "execution_count": null,
   "id": "a5a67e19-6398-41fb-a349-1ce8c873ea31",
   "metadata": {},
   "outputs": [],
   "source": [
    "guj1_data=pd.read_csv('gujarat1(result).csv')\n",
    "guj2_data=pd.read_csv('gujarat2(result).csv')"
   ]
  },
  {
   "cell_type": "code",
   "execution_count": null,
   "id": "543f274e-fa2b-4a16-acf4-184e057473b6",
   "metadata": {},
   "outputs": [],
   "source": [
    "guj1_data.head()\n",
    "guj2_data.head()"
   ]
  },
  {
   "cell_type": "code",
   "execution_count": null,
   "id": "0f2bd184-e7c4-49d7-9139-5cbcefa397c1",
   "metadata": {},
   "outputs": [],
   "source": [
    "guj1_data.rename(columns={\n",
    "    'tablescraper-selected-row': 'Constituency',\n",
    "    'tablescraper-selected-row 2': 'Const. No.',\n",
    "    'tablescraper-selected-row 3': 'Leading Candidate',\n",
    "    'tablescraper-selected-row 4': 'Leading Party',\n",
    "    'tablescraper-selected-row 5': 'Trailing Candidate',\n",
    "    'tablescraper-selected-row 6': 'Trailing Party',\n",
    "    'tablescraper-selected-row 7': 'Margin'\n",
    "}, inplace=True)\n",
    "guj2_data.rename(columns={\n",
    "    'tablescraper-selected-row': 'Constituency',\n",
    "    'tablescraper-selected-row 2': 'Const. No.',\n",
    "    'tablescraper-selected-row 3': 'Leading Candidate',\n",
    "    'tablescraper-selected-row 4': 'Leading Party',\n",
    "    'tablescraper-selected-row 5': 'Trailing Candidate',\n",
    "    'tablescraper-selected-row 6': 'Trailing Party',\n",
    "    'tablescraper-selected-row 7': 'Margin'\n",
    "}, inplace=True)"
   ]
  },
  {
   "cell_type": "code",
   "execution_count": null,
   "id": "80cc0765-368f-468c-912a-8b3becaa4df2",
   "metadata": {},
   "outputs": [],
   "source": [
    "guj1_data.head()"
   ]
  },
  {
   "cell_type": "code",
   "execution_count": null,
   "id": "2b2b0eb0-86d4-447b-999b-bc2707095c9b",
   "metadata": {},
   "outputs": [],
   "source": [
    "guj2_data.head()"
   ]
  },
  {
   "cell_type": "code",
   "execution_count": null,
   "id": "48a860d2-dbc6-4305-9ca8-2549a2099228",
   "metadata": {},
   "outputs": [],
   "source": [
    "guj2_data=guj2_data.drop(columns=['tooltip-icon 2','table 15','tablescraper-selected-row 8'])"
   ]
  },
  {
   "cell_type": "code",
   "execution_count": null,
   "id": "c324795c-c410-46bf-a6de-ea5d6aab5dba",
   "metadata": {},
   "outputs": [],
   "source": [
    "guj2_data.head()"
   ]
  },
  {
   "cell_type": "code",
   "execution_count": null,
   "id": "c3cc0956-f051-4bf4-8a8e-8ae51ebab877",
   "metadata": {},
   "outputs": [],
   "source": [
    "guj1_data.to_csv('gujarat1(result).csv',index=False)\n",
    "guj2_data.to_csv('gujarat2(result).csv',index=False)"
   ]
  },
  {
   "cell_type": "code",
   "execution_count": null,
   "id": "d0489d8c-313f-4eb5-9597-8e0b57cb69f9",
   "metadata": {},
   "outputs": [],
   "source": [
    "gujarat_data = pd.concat([guj1_data, guj2_data], ignore_index=True)"
   ]
  },
  {
   "cell_type": "code",
   "execution_count": null,
   "id": "50f566dd-da4e-4430-9e6c-d1bf38997120",
   "metadata": {},
   "outputs": [],
   "source": [
    "gujarat_data.head()"
   ]
  },
  {
   "cell_type": "code",
   "execution_count": null,
   "id": "bf7a0db4-370c-4bba-bcd6-22792673ca8c",
   "metadata": {},
   "outputs": [],
   "source": [
    "gujarat_data.to_csv('gujarat_data.csv', index=False)"
   ]
  },
  {
   "cell_type": "markdown",
   "id": "34871faf-f984-4ee7-a758-828bd9344809",
   "metadata": {},
   "source": [
    "Haryana Data Preparation"
   ]
  },
  {
   "cell_type": "code",
   "execution_count": null,
   "id": "f31929c2-c455-4b1a-af5a-ac82b8efca56",
   "metadata": {},
   "outputs": [],
   "source": [
    "haryana_data=pd.read_csv('haryana(result).csv')\n",
    "haryana_data.head()"
   ]
  },
  {
   "cell_type": "code",
   "execution_count": null,
   "id": "306efef2-3b5e-4514-b37b-86a241d75602",
   "metadata": {},
   "outputs": [],
   "source": [
    "haryana_data.rename(columns={\n",
    "    'tablescraper-selected-row': 'Constituency',\n",
    "    'tablescraper-selected-row 2': 'Const. No.',\n",
    "    'tablescraper-selected-row 3': 'Leading Candidate',\n",
    "    'tablescraper-selected-row 4': 'Leading Party',\n",
    "    'tablescraper-selected-row 5': 'Trailing Candidate',\n",
    "    'tablescraper-selected-row 6': 'Trailing Party',\n",
    "    'tablescraper-selected-row 7': 'Margin'\n",
    "}, inplace=True)"
   ]
  },
  {
   "cell_type": "code",
   "execution_count": null,
   "id": "c0729645-ade1-4e99-acf2-60227b4caa63",
   "metadata": {},
   "outputs": [],
   "source": [
    "haryana_data.head()"
   ]
  },
  {
   "cell_type": "code",
   "execution_count": null,
   "id": "dfe62f27-aaba-48b9-bdd1-4429b2752f73",
   "metadata": {},
   "outputs": [],
   "source": [
    "haryana_data=haryana_data.drop(columns=['table 15'])"
   ]
  },
  {
   "cell_type": "code",
   "execution_count": null,
   "id": "eebfaaed-a715-49e3-9983-68542fa95f7c",
   "metadata": {},
   "outputs": [],
   "source": [
    "haryana_data.head()"
   ]
  },
  {
   "cell_type": "code",
   "execution_count": null,
   "id": "4c82a146-8e68-4975-9fe8-c1fcc0682ddb",
   "metadata": {},
   "outputs": [],
   "source": [
    "haryana_data.to_csv('haryana(result).csv',index=False)"
   ]
  },
  {
   "cell_type": "markdown",
   "id": "3f31a168-1c91-4900-abc9-90d72f559f07",
   "metadata": {},
   "source": [
    "Himachal Pradesh data Preparation"
   ]
  },
  {
   "cell_type": "code",
   "execution_count": null,
   "id": "33456853-a2e1-41e2-9a0c-e6f00df340b3",
   "metadata": {},
   "outputs": [],
   "source": [
    "himachal_data=pd.read_csv('himachal(result).csv')\n",
    "himachal_data.head()"
   ]
  },
  {
   "cell_type": "markdown",
   "id": "a14c1f74-3440-4315-828f-9fbc204a24b7",
   "metadata": {},
   "source": [
    "Jammu and Kashmir Data Preparation"
   ]
  },
  {
   "cell_type": "code",
   "execution_count": null,
   "id": "025c169f-1154-4007-9beb-d6a5e672928b",
   "metadata": {},
   "outputs": [],
   "source": [
    "jandk_data=pd.read_csv('j&k(result).csv')\n",
    "jandk_data.head()"
   ]
  },
  {
   "cell_type": "code",
   "execution_count": null,
   "id": "6cc3279c-ae58-4bf7-9236-95e8e92ea948",
   "metadata": {},
   "outputs": [],
   "source": [
    "jandk_data.rename(columns={\n",
    "    'tablescraper-selected-row': 'Constituency',\n",
    "    'tablescraper-selected-row 2': 'Const. No.',\n",
    "    'tablescraper-selected-row 3': 'Leading Candidate',\n",
    "    'tablescraper-selected-row 4': 'Leading Party',\n",
    "    'tablescraper-selected-row 5': 'Trailing Candidate',\n",
    "    'tablescraper-selected-row 6': 'Trailing Party',\n",
    "    'tablescraper-selected-row 7': 'Margin'\n",
    "}, inplace=True)"
   ]
  },
  {
   "cell_type": "code",
   "execution_count": null,
   "id": "1db51200-dea5-4fa6-944c-dca3a5368a91",
   "metadata": {},
   "outputs": [],
   "source": [
    "jandk_data=jandk_data.drop(columns=['table 6','table 15'])"
   ]
  },
  {
   "cell_type": "code",
   "execution_count": null,
   "id": "5066d9e3-9c4e-4251-934f-82b95e473cfe",
   "metadata": {},
   "outputs": [],
   "source": [
    "jandk_data.head()"
   ]
  },
  {
   "cell_type": "code",
   "execution_count": null,
   "id": "d45553fc-edbf-4a3d-8df2-f656004dbeb0",
   "metadata": {},
   "outputs": [],
   "source": [
    "jandk_data.to_csv('j&k(result).csv', index=False)"
   ]
  },
  {
   "cell_type": "code",
   "execution_count": null,
   "id": "0b714825-b5a3-4fbf-a4af-344c830c7baf",
   "metadata": {},
   "outputs": [],
   "source": [
    "jhar_data=pd.read_csv('jharkhand(result).csv')"
   ]
  },
  {
   "cell_type": "code",
   "execution_count": null,
   "id": "b45e05ee-9ad6-4876-a5e6-dc542908a45c",
   "metadata": {},
   "outputs": [],
   "source": [
    "jhar_data.rename(columns={\n",
    "    'tablescraper-selected-row': 'Constituency',\n",
    "    'tablescraper-selected-row 2': 'Const. No.',\n",
    "    'tablescraper-selected-row 3': 'Leading Candidate',\n",
    "    'tablescraper-selected-row 4': 'Leading Party',\n",
    "    'tablescraper-selected-row 5': 'Trailing Candidate',\n",
    "    'tablescraper-selected-row 6': 'Trailing Party',\n",
    "    'tablescraper-selected-row 7': 'Margin'\n",
    "}, inplace=True)"
   ]
  },
  {
   "cell_type": "code",
   "execution_count": null,
   "id": "49f5f041-db32-4ab4-ae35-8ee15173e88f",
   "metadata": {},
   "outputs": [],
   "source": [
    "jhar_data=jhar_data.drop(columns=['table 6','table 15'])"
   ]
  },
  {
   "cell_type": "code",
   "execution_count": null,
   "id": "ad5a8df6-497c-4f8b-b7ef-c1ee863b1d7a",
   "metadata": {},
   "outputs": [],
   "source": [
    "jhar_data.head()"
   ]
  },
  {
   "cell_type": "code",
   "execution_count": null,
   "id": "3eac1343-70f6-430c-a610-8b28139162eb",
   "metadata": {},
   "outputs": [],
   "source": [
    "jhar_data.to_csv('jharkhand(result).csv', index=False)"
   ]
  },
  {
   "cell_type": "markdown",
   "id": "db3fc2af-7946-4e52-a94e-0e38b05fd440",
   "metadata": {},
   "source": [
    "Karnataka"
   ]
  },
  {
   "cell_type": "code",
   "execution_count": null,
   "id": "5cf96bac-db8b-4835-afa3-aefa2990b2c8",
   "metadata": {},
   "outputs": [],
   "source": [
    "karna1_data=pd.read_csv('karnataka1(result).csv')\n",
    "karna2_data=pd.read_csv('karnataka2(result).csv')"
   ]
  },
  {
   "cell_type": "code",
   "execution_count": null,
   "id": "f5d6a025-968b-465e-bc57-a56c2abf6bdc",
   "metadata": {},
   "outputs": [],
   "source": [
    "karna1_data.rename(columns={\n",
    "    'tablescraper-selected-row': 'Constituency',\n",
    "    'tablescraper-selected-row 2': 'Const. No.',\n",
    "    'tablescraper-selected-row 3': 'Leading Candidate',\n",
    "    'tablescraper-selected-row 4': 'Leading Party',\n",
    "    'tablescraper-selected-row 5': 'Trailing Candidate',\n",
    "    'tablescraper-selected-row 6': 'Trailing Party',\n",
    "    'tablescraper-selected-row 7': 'Margin'\n",
    "}, inplace=True)\n",
    "karna2_data.rename(columns={\n",
    "    'tablescraper-selected-row': 'Constituency',\n",
    "    'tablescraper-selected-row 2': 'Const. No.',\n",
    "    'tablescraper-selected-row 3': 'Leading Candidate',\n",
    "    'tablescraper-selected-row 4': 'Leading Party',\n",
    "    'tablescraper-selected-row 5': 'Trailing Candidate',\n",
    "    'tablescraper-selected-row 6': 'Trailing Party',\n",
    "    'tablescraper-selected-row 7': 'Margin'\n",
    "}, inplace=True)"
   ]
  },
  {
   "cell_type": "code",
   "execution_count": null,
   "id": "14632d4e-e9c1-4c37-a79d-c5304bfa3a7a",
   "metadata": {},
   "outputs": [],
   "source": [
    "karna1_data=karna1_data.drop(columns=['table 6','table 15'])\n",
    "karna2_data=karna2_data.drop(columns=['table 6','table 15'])"
   ]
  },
  {
   "cell_type": "code",
   "execution_count": null,
   "id": "c3bd8d38-5917-451d-9d15-33418c5aae4c",
   "metadata": {},
   "outputs": [],
   "source": [
    "karna1_data.head()"
   ]
  },
  {
   "cell_type": "code",
   "execution_count": null,
   "id": "d2ae0f7f-bc52-4fbd-850f-bbfe38a26319",
   "metadata": {},
   "outputs": [],
   "source": [
    "karna1_data.to_csv('karnataka1(result).csv' ,index=False)\n",
    "karna2_data.to_csv('karnataka2(result).csv', index=False)"
   ]
  },
  {
   "cell_type": "markdown",
   "id": "10685686-84a6-4c95-a6f3-b8e370eaab16",
   "metadata": {},
   "source": [
    "Kerala"
   ]
  },
  {
   "cell_type": "code",
   "execution_count": null,
   "id": "d390cc36-16d1-4efe-b6ec-e87b5e3609b9",
   "metadata": {},
   "outputs": [],
   "source": [
    "kerala_data=pd.read_csv('kerala(result).csv')"
   ]
  },
  {
   "cell_type": "code",
   "execution_count": null,
   "id": "003497f9-d6d0-4873-82d6-995457f4537d",
   "metadata": {},
   "outputs": [],
   "source": [
    "kerala_data.head()"
   ]
  },
  {
   "cell_type": "code",
   "execution_count": null,
   "id": "d4fc8c6a-437b-4c9d-9c38-b7f26ed7a810",
   "metadata": {},
   "outputs": [],
   "source": [
    "kerala_data.rename(columns={\n",
    "    'tablescraper-selected-row': 'Constituency',\n",
    "    'tablescraper-selected-row 2': 'Const. No.',\n",
    "    'tablescraper-selected-row 3': 'Leading Candidate',\n",
    "    'tablescraper-selected-row 4': 'Leading Party',\n",
    "    'tablescraper-selected-row 5': 'Trailing Candidate',\n",
    "    'tablescraper-selected-row 6': 'Trailing Party',\n",
    "    'tablescraper-selected-row 7': 'Margin'\n",
    "}, inplace=True)"
   ]
  },
  {
   "cell_type": "code",
   "execution_count": null,
   "id": "da3f6f5e-148b-4f8b-8bd1-e77b5a34aba4",
   "metadata": {},
   "outputs": [],
   "source": [
    "kerala_data=kerala_data.drop(columns=['table 6','table 15'])"
   ]
  },
  {
   "cell_type": "code",
   "execution_count": null,
   "id": "86ad85f6-302c-4788-8fb6-bbd7bf75e19b",
   "metadata": {},
   "outputs": [],
   "source": [
    "kerala_data.head()"
   ]
  },
  {
   "cell_type": "markdown",
   "id": "97f772ba-d3d7-49f9-b2ba-2a0adb774a15",
   "metadata": {},
   "source": [
    "Ladakh"
   ]
  },
  {
   "cell_type": "code",
   "execution_count": null,
   "id": "687a6712-c8c6-436f-a740-802ecbe367de",
   "metadata": {},
   "outputs": [],
   "source": [
    "ladakh_data=pd.read_csv('ladakh(result).csv')\n",
    "ladakh_data.head()"
   ]
  },
  {
   "cell_type": "markdown",
   "id": "a72cc83c-216e-4ed6-94e9-4a3cd0c9c464",
   "metadata": {},
   "source": [
    "Lakshadweep"
   ]
  },
  {
   "cell_type": "code",
   "execution_count": null,
   "id": "df3c8ff6-6ac0-4fe4-a219-9ab7fa0f113b",
   "metadata": {},
   "outputs": [],
   "source": [
    "lakshadweep_data=pd.read_csv('lakshadweep(result).csv')"
   ]
  },
  {
   "cell_type": "code",
   "execution_count": null,
   "id": "c0800a67-3fba-4f52-bb6c-f76cf7bb4b94",
   "metadata": {},
   "outputs": [],
   "source": [
    "lakshadweep_data.head()"
   ]
  },
  {
   "cell_type": "code",
   "execution_count": null,
   "id": "ace4e973-e304-47cc-af0b-e988e3043c06",
   "metadata": {},
   "outputs": [],
   "source": [
    "andaman_data.rename(columns={'leading party': 'Leading Party'}, inplace=True)"
   ]
  },
  {
   "cell_type": "code",
   "execution_count": null,
   "id": "804ea174-625b-43f3-ace5-4dd6b479ae32",
   "metadata": {},
   "outputs": [],
   "source": [
    "dfs_1= [\n",
    "    andaman_data, andhra_data, arunachal_data, assam_data, bihar_data,\n",
    "    chandi_data, chattis_data, dadra_data, goa_data, gujarat_data,\n",
    "    haryana_data, himachal_data, jandk_data, jhar_data, karna1_data,\n",
    "    karna2_data, kerala_data, ladakh_data, lakshadweep_data\n",
    "]"
   ]
  },
  {
   "cell_type": "code",
   "execution_count": null,
   "id": "a3466983-da53-4c6a-8fd4-d3662f2d1efd",
   "metadata": {},
   "outputs": [],
   "source": [
    "half_1_data = pd.concat(dfs_1, ignore_index=True)"
   ]
  },
  {
   "cell_type": "code",
   "execution_count": null,
   "id": "fb06a084-145d-4c08-9e55-a0fc17be8bb7",
   "metadata": {},
   "outputs": [],
   "source": [
    "half_data.head()"
   ]
  },
  {
   "cell_type": "code",
   "execution_count": null,
   "id": "63c7e96a-7a48-4d03-80d3-ef923f1fb57d",
   "metadata": {},
   "outputs": [],
   "source": [
    "half_data.to_csv('half_data.csv', index=False)\n"
   ]
  },
  {
   "cell_type": "code",
   "execution_count": null,
   "id": "dc1ad4d9-7f37-4d1c-bd78-c2aebc035f94",
   "metadata": {},
   "outputs": [],
   "source": [
    "for df in [andaman_data, andhra_data, arunachal_data, assam_data, bihar_data,\n",
    "           chandi_data, chattis_data, dadra_data, goa_data, gujarat_data,\n",
    "           haryana_data, himachal_data, jandk_data, jhar_data, karna1_data,\n",
    "           karna2_data, kerala_data, ladakh_data, lakshadweep_data]:\n",
    "    print(df.columns)\n"
   ]
  },
  {
   "cell_type": "code",
   "execution_count": null,
   "id": "a5028545-ad81-4aa7-b245-c518e086fd3c",
   "metadata": {},
   "outputs": [],
   "source": [
    "half_data = pd.concat(dfs, ignore_index=True)\n"
   ]
  },
  {
   "cell_type": "code",
   "execution_count": null,
   "id": "262e7909-b18e-42fb-b516-060dfa664607",
   "metadata": {},
   "outputs": [],
   "source": [
    "half_data.head()"
   ]
  },
  {
   "cell_type": "code",
   "execution_count": null,
   "id": "54ec4a16-fb92-47ee-b162-4eed85b47619",
   "metadata": {},
   "outputs": [],
   "source": [
    "andaman_leading_party = half_data[half_data['Constituency'] == 'Andaman & Nicobar Islands']['Leading Party']\n",
    "eluru_leading_party = half_data[half_data['Constituency'] == 'Eluru']['Leading Party']\n",
    "\n",
    "print(\"Leading Party in Andaman & Nicobar Islands:\", andaman_leading_party.values[0])\n",
    "print(\"Leading Party in Eluru:\", eluru_leading_party.values[0])"
   ]
  },
  {
   "cell_type": "code",
   "execution_count": null,
   "id": "759399c8-71ab-45d5-91d2-6b75852cadf8",
   "metadata": {},
   "outputs": [],
   "source": [
    "half_data.drop(columns=['Leading party'], inplace=True)\n"
   ]
  },
  {
   "cell_type": "code",
   "execution_count": null,
   "id": "ab5a4b0d-4f55-4a69-be22-6390d6b949b6",
   "metadata": {},
   "outputs": [],
   "source": [
    "half_data.head()"
   ]
  },
  {
   "cell_type": "code",
   "execution_count": null,
   "id": "7b1db5a2-9eda-48dc-b488-a2371b2bf16b",
   "metadata": {},
   "outputs": [],
   "source": [
    "index = half_data[half_data['Constituency'] == 'Andaman & Nicobar Islands'].index\n",
    "\n",
    "half_data.loc[index, 'Leading Party'] = 'Bharatiya Janata Party'"
   ]
  },
  {
   "cell_type": "code",
   "execution_count": null,
   "id": "553740a6-56a1-4aef-a409-3e6d122e5b2d",
   "metadata": {},
   "outputs": [],
   "source": [
    "half_data.head()"
   ]
  },
  {
   "cell_type": "code",
   "execution_count": null,
   "id": "4300fb9c-6105-481d-97ed-b4642187d45a",
   "metadata": {},
   "outputs": [],
   "source": [
    "half_data.to_csv('half_data.csv', index=False)"
   ]
  },
  {
   "cell_type": "code",
   "execution_count": null,
   "id": "b30a0252-aefb-48fb-9d07-7c419a885dca",
   "metadata": {},
   "outputs": [],
   "source": [
    "constituencies_no_leading_party = half_data[half_data['Leading Party'].isnull()]['Constituency'].unique()\n",
    "\n",
    "# Display the constituencies\n",
    "print(\"Constituencies with no data under Leading Party:\")\n",
    "for constituency in constituencies_no_leading_party:\n",
    "    print(constituency)"
   ]
  },
  {
   "cell_type": "code",
   "execution_count": null,
   "id": "47871018-0a52-421e-9624-e3eb4ffd7cf0",
   "metadata": {},
   "outputs": [],
   "source": [
    "constituencies_to_fill = ['Rajkot', 'Sabarkantha', 'Surat', 'Surendranagar', 'Vadodara', 'Valsad']\n",
    "\n",
    "\n",
    "half_data.loc[half_data['Constituency'].isin(constituencies_to_fill), 'Leading Party'] = 'Bharatiya Janata Party'"
   ]
  },
  {
   "cell_type": "code",
   "execution_count": null,
   "id": "49da8397-2b63-46ad-95d1-3e8b6b33f7d0",
   "metadata": {},
   "outputs": [],
   "source": [
    "# Check for null values in each constituency\n",
    "constituencies_with_null = half_data[half_data.isnull().any(axis=1)]['Constituency'].unique()\n",
    "\n",
    "# Display the constituencies with null values\n",
    "print(\"Constituencies with null values:\")\n",
    "for constituency in constituencies_with_null:\n",
    "    print(constituency)\n"
   ]
  },
  {
   "cell_type": "markdown",
   "id": "6c199eab-961e-4646-8a3f-75ba6b042050",
   "metadata": {},
   "source": [
    "Madhya Pradesh"
   ]
  },
  {
   "cell_type": "code",
   "execution_count": null,
   "id": "a4b8adef-f014-46af-bb5d-75ae9062610c",
   "metadata": {},
   "outputs": [],
   "source": [
    "mp1_data=pd.read_csv('Madhya Pradesh(result).csv')\n",
    "mp2_data=pd.read_csv('Madhya Pradesh_1.csv')"
   ]
  },
  {
   "cell_type": "code",
   "execution_count": null,
   "id": "358617a9-944d-4216-b6a7-b520a345c04d",
   "metadata": {},
   "outputs": [],
   "source": [
    "mp1_data.rename(columns={\n",
    "    'tablescraper-selected-row': 'Constituency',\n",
    "    'tablescraper-selected-row 2': 'Const. No.',\n",
    "    'tablescraper-selected-row 3': 'Leading Candidate',\n",
    "    'tablescraper-selected-row 4': 'Leading Party',\n",
    "    'tablescraper-selected-row 5': 'Trailing Candidate',\n",
    "    'tablescraper-selected-row 6': 'Trailing Party',\n",
    "    'tablescraper-selected-row 7': 'Margin'\n",
    "}, inplace=True)\n",
    "mp2_data.rename(columns={\n",
    "    'tablescraper-selected-row': 'Constituency',\n",
    "    'tablescraper-selected-row 2': 'Const. No.',\n",
    "    'tablescraper-selected-row 3': 'Leading Candidate',\n",
    "    'tablescraper-selected-row 4': 'Leading Party',\n",
    "    'tablescraper-selected-row 5': 'Trailing Candidate',\n",
    "    'tablescraper-selected-row 6': 'Trailing Party',\n",
    "    'tablescraper-selected-row 7': 'Margin'\n",
    "}, inplace=True)"
   ]
  },
  {
   "cell_type": "code",
   "execution_count": null,
   "id": "b8120064-3441-4618-8133-d6f68bc96fed",
   "metadata": {},
   "outputs": [],
   "source": [
    "mp1_data.head()"
   ]
  },
  {
   "cell_type": "code",
   "execution_count": null,
   "id": "ec5c167b-5689-4b56-aa13-373860c54baf",
   "metadata": {},
   "outputs": [],
   "source": [
    "mp1_data.to_csv('Madhya Pradesh(result).csv', index=False)\n",
    "mp2_data.to_csv('Madhya Pradesh_1.csv', index=False)"
   ]
  },
  {
   "cell_type": "markdown",
   "id": "2bedc7e6-b463-428b-9a6d-0b6bb50143ba",
   "metadata": {},
   "source": [
    "Manipur"
   ]
  },
  {
   "cell_type": "code",
   "execution_count": null,
   "id": "eff9e931-68fb-4459-bbbb-0b2f7c0bc435",
   "metadata": {},
   "outputs": [],
   "source": [
    "mani_data=pd.read_csv('manipur(result).csv')"
   ]
  },
  {
   "cell_type": "code",
   "execution_count": null,
   "id": "0b290715-16b7-4769-b79b-c808f5be0271",
   "metadata": {},
   "outputs": [],
   "source": [
    "mani_data.head()"
   ]
  },
  {
   "cell_type": "markdown",
   "id": "97e1f9a9-bac1-4610-93ce-4063cdeeb4fa",
   "metadata": {},
   "source": [
    "Meghalaya"
   ]
  },
  {
   "cell_type": "code",
   "execution_count": null,
   "id": "e0b679da-9681-4daf-976d-f1a1f8a3a684",
   "metadata": {},
   "outputs": [],
   "source": [
    "megha_data=pd.read_csv('meghalaya(result).csv')\n",
    "megha_data.head()"
   ]
  },
  {
   "cell_type": "markdown",
   "id": "8d8ac9b5-6043-4d52-b0e1-5e667dd56cca",
   "metadata": {},
   "source": [
    "Mizoram"
   ]
  },
  {
   "cell_type": "code",
   "execution_count": null,
   "id": "cdda7da6-6b20-44bc-bffe-8b506f7b9464",
   "metadata": {},
   "outputs": [],
   "source": [
    "mizo_data=pd.read_csv('mizoram(result).csv')"
   ]
  },
  {
   "cell_type": "code",
   "execution_count": null,
   "id": "4f0bab35-48f4-4c5f-964f-5fbb371e3857",
   "metadata": {},
   "outputs": [],
   "source": [
    "mizo_data.head()"
   ]
  },
  {
   "cell_type": "markdown",
   "id": "4afb410a-8217-4432-b971-5daf3c468cb4",
   "metadata": {},
   "source": [
    "Nagaland"
   ]
  },
  {
   "cell_type": "code",
   "execution_count": null,
   "id": "f2951699-23c5-4f09-99a4-2abc5e1c9bd9",
   "metadata": {},
   "outputs": [],
   "source": [
    "naga_data=pd.read_csv('nagaland(result).csv')"
   ]
  },
  {
   "cell_type": "code",
   "execution_count": null,
   "id": "e6791d1d-007a-4ea6-bfe2-5139996bb31d",
   "metadata": {},
   "outputs": [],
   "source": [
    "naga_data.head()"
   ]
  },
  {
   "cell_type": "markdown",
   "id": "2bb50c1e-6935-4833-8fb7-2c3a1a658019",
   "metadata": {},
   "source": [
    "New Delhi"
   ]
  },
  {
   "cell_type": "code",
   "execution_count": null,
   "id": "4eede4ba-c685-4901-acd5-b88ba936c04f",
   "metadata": {},
   "outputs": [],
   "source": [
    "delhi_data=pd.read_csv('Delhi(result).csv')"
   ]
  },
  {
   "cell_type": "code",
   "execution_count": null,
   "id": "1fdc7802-3bb6-4073-a845-2a6e3b44219f",
   "metadata": {},
   "outputs": [],
   "source": [
    "delhi_data.head()"
   ]
  },
  {
   "cell_type": "code",
   "execution_count": null,
   "id": "4daf14ae-0660-41e2-b3d3-9c023a357406",
   "metadata": {},
   "outputs": [],
   "source": [
    "delhi_data.rename(columns={\n",
    "    'tablescraper-selected-row': 'Constituency',\n",
    "    'tablescraper-selected-row 2': 'Const. No.',\n",
    "    'tablescraper-selected-row 3': 'Leading Candidate',\n",
    "    'tablescraper-selected-row 4': 'Leading Party',\n",
    "    'tablescraper-selected-row 5': 'Trailing Candidate',\n",
    "    'tablescraper-selected-row 6': 'Trailing Party',\n",
    "    'tablescraper-selected-row 7': 'Margin'\n",
    "}, inplace=True)"
   ]
  },
  {
   "cell_type": "code",
   "execution_count": null,
   "id": "ee9b6d29-6404-47f4-9522-9153ad6b711e",
   "metadata": {},
   "outputs": [],
   "source": [
    "delhi_data.head()"
   ]
  },
  {
   "cell_type": "code",
   "execution_count": null,
   "id": "73e48d7e-8c1c-45f4-9be8-1f91d0b27216",
   "metadata": {},
   "outputs": [],
   "source": [
    "delhi_data.to_csv('Delhi(result).csv', index=False)"
   ]
  },
  {
   "cell_type": "markdown",
   "id": "8cd4ab8e-743c-4b49-ab63-e217c5c5e608",
   "metadata": {},
   "source": [
    "Odisha"
   ]
  },
  {
   "cell_type": "code",
   "execution_count": null,
   "id": "2dc715d9-aadf-4d69-8da3-e616748aed5a",
   "metadata": {},
   "outputs": [],
   "source": [
    "odisha_data=pd.read_csv('Odhisa(result).csv')"
   ]
  },
  {
   "cell_type": "code",
   "execution_count": null,
   "id": "89e6b48a-4c77-4e10-88ba-d79beeb8e5ae",
   "metadata": {},
   "outputs": [],
   "source": [
    "odisha_data.head()"
   ]
  },
  {
   "cell_type": "code",
   "execution_count": null,
   "id": "ecfb2dca-e739-4364-9517-7a09e45d07f1",
   "metadata": {},
   "outputs": [],
   "source": [
    "odisha_data.rename(columns={\n",
    "    'tablescraper-selected-row': 'Constituency',\n",
    "    'tablescraper-selected-row 2': 'Const. No.',\n",
    "    'tablescraper-selected-row 3': 'Leading Candidate',\n",
    "    'tablescraper-selected-row 4': 'Leading Party',\n",
    "    'tablescraper-selected-row 5': 'Trailing Candidate',\n",
    "    'tablescraper-selected-row 6': 'Trailing Party',\n",
    "    'tablescraper-selected-row 7': 'Margin'\n",
    "}, inplace=True)"
   ]
  },
  {
   "cell_type": "code",
   "execution_count": null,
   "id": "64101390-57cd-4a83-8a9c-1e1cded6ea10",
   "metadata": {},
   "outputs": [],
   "source": [
    "odisha_data.head()"
   ]
  },
  {
   "cell_type": "code",
   "execution_count": null,
   "id": "fd354a14-7f42-44eb-9550-f9d50d0bfe4a",
   "metadata": {},
   "outputs": [],
   "source": [
    "odisha_data.to_csv('Odhisa(result).csv', index=False)"
   ]
  },
  {
   "cell_type": "markdown",
   "id": "abb9fa35-74c4-4dbf-a820-366e4d90fd1e",
   "metadata": {},
   "source": [
    "Puducherry"
   ]
  },
  {
   "cell_type": "code",
   "execution_count": null,
   "id": "9d2facf7-bf18-43a2-8cb7-b56022ed6c8f",
   "metadata": {},
   "outputs": [],
   "source": [
    "pudu_data=pd.read_csv('Puducherry(result).csv')\n",
    "pudu_data.head()"
   ]
  },
  {
   "cell_type": "markdown",
   "id": "d30f477d-d9b0-4984-99e0-5deb7d00fcec",
   "metadata": {},
   "source": [
    "Punjab"
   ]
  },
  {
   "cell_type": "code",
   "execution_count": null,
   "id": "a6a70d2a-c536-406e-a9a9-e35a4cdd0df1",
   "metadata": {},
   "outputs": [],
   "source": [
    "punjab_data=pd.read_csv('Punjab(result).csv')"
   ]
  },
  {
   "cell_type": "code",
   "execution_count": null,
   "id": "3e893b6e-e6c5-4b58-ae06-90b110977c42",
   "metadata": {},
   "outputs": [],
   "source": [
    "punjab_data.rename(columns={\n",
    "    'tablescraper-selected-row': 'Constituency',\n",
    "    'tablescraper-selected-row 2': 'Const. No.',\n",
    "    'tablescraper-selected-row 3': 'Leading Candidate',\n",
    "    'tablescraper-selected-row 4': 'Leading Party',\n",
    "    'tablescraper-selected-row 5': 'Trailing Candidate',\n",
    "    'tablescraper-selected-row 6': 'Trailing Party',\n",
    "    'tablescraper-selected-row 7': 'Margin'\n",
    "}, inplace=True)"
   ]
  },
  {
   "cell_type": "code",
   "execution_count": null,
   "id": "130accd6-dc2d-47ed-8f53-f3fd69154480",
   "metadata": {},
   "outputs": [],
   "source": [
    "punjab_data=punjab_data.drop(columns=['table 6','table 15'])"
   ]
  },
  {
   "cell_type": "code",
   "execution_count": null,
   "id": "2bf3da60-1404-4c4d-a569-f4046089b786",
   "metadata": {},
   "outputs": [],
   "source": [
    "punjab_data.head()"
   ]
  },
  {
   "cell_type": "code",
   "execution_count": null,
   "id": "383ac5b0-2ab3-43a3-a9e3-fea0bdb3c67d",
   "metadata": {},
   "outputs": [],
   "source": [
    "punjab_data.to_csv('Punjab(result).csv', index=False)"
   ]
  },
  {
   "cell_type": "code",
   "execution_count": null,
   "id": "beb435d2-3514-4065-af1c-55fecca079ab",
   "metadata": {},
   "outputs": [],
   "source": [
    "dfs2 = [mp1_data, mp2_data, mani_data, megha_data, mizo_data, naga_data, delhi_data, odisha_data, pudu_data, punjab_data]\n",
    "\n",
    "half_2_data = pd.concat(dfs2, ignore_index=True)"
   ]
  },
  {
   "cell_type": "code",
   "execution_count": null,
   "id": "6c5227d9-e754-4467-9f63-951a0fc0f88f",
   "metadata": {},
   "outputs": [],
   "source": [
    "half_2_data.head()"
   ]
  },
  {
   "cell_type": "code",
   "execution_count": null,
   "id": "0e61887e-0740-4496-9bc8-7cc3e9e26e2a",
   "metadata": {},
   "outputs": [],
   "source": [
    "half_2_data.to_csv('half_2_data.csv', index=False)"
   ]
  },
  {
   "cell_type": "code",
   "execution_count": null,
   "id": "9288b308-3130-471a-859a-411826fe748b",
   "metadata": {},
   "outputs": [],
   "source": [
    "# Find constituencies with empty State column\n",
    "constituencies_empty_state = half_2_data[half_2_data['State'].isnull()]['Constituency'].unique()\n",
    "\n",
    "# Display the constituencies\n",
    "print(\"Constituencies with empty State column:\")\n",
    "for constituency in constituencies_empty_state:\n",
    "    print(constituency)\n"
   ]
  },
  {
   "cell_type": "code",
   "execution_count": null,
   "id": "920a3f2e-c6b7-458e-b814-47690eed1a1e",
   "metadata": {},
   "outputs": [],
   "source": [
    "constituencies_to_fill = ['RATLAM', 'REWA', 'SAGAR', 'SATNA', 'SHAHDOL', 'SIDHI', 'TIKAMGARH', 'UJJAIN', 'VIDISHA']\n",
    "\n",
    "half_2_data.loc[half_2_data['Constituency'].isin(constituencies_to_fill), 'State'] = 'Madhya Pradesh'\n"
   ]
  },
  {
   "cell_type": "code",
   "execution_count": null,
   "id": "eaa0c2f6-49a3-4550-af98-1e2055e32de2",
   "metadata": {},
   "outputs": [],
   "source": [
    "half_2_data.to_csv('half_2_data.csv', index=False)"
   ]
  },
  {
   "cell_type": "markdown",
   "id": "7e0a8d90-edcb-47a9-a7d0-67b1caea495d",
   "metadata": {},
   "source": [
    "Rajasthan"
   ]
  },
  {
   "cell_type": "code",
   "execution_count": null,
   "id": "1d12adbf-6ece-4916-80e4-9bdcdd71f9f1",
   "metadata": {},
   "outputs": [],
   "source": [
    "raj1_data=pd.read_csv('Rajasthan1(result).csv')\n",
    "raj2_data=pd.read_csv('Rajasthan2(result).csv')"
   ]
  },
  {
   "cell_type": "code",
   "execution_count": null,
   "id": "27c6096a-9aba-4b12-91a3-caadc40208f3",
   "metadata": {},
   "outputs": [],
   "source": [
    "raj1_data.rename(columns={\n",
    "    'tablescraper-selected-row': 'Constituency',\n",
    "    'tablescraper-selected-row 2': 'Const. No.',\n",
    "    'tablescraper-selected-row 3': 'Leading Candidate',\n",
    "    'tablescraper-selected-row 4': 'Leading Party',\n",
    "    'tablescraper-selected-row 5': 'Trailing Candidate',\n",
    "    'tablescraper-selected-row 6': 'Trailing Party',\n",
    "    'tablescraper-selected-row 7': 'Margin'\n",
    "}, inplace=True)\n",
    "raj2_data.rename(columns={\n",
    "    'tablescraper-selected-row': 'Constituency',\n",
    "    'tablescraper-selected-row 2': 'Const. No.',\n",
    "    'tablescraper-selected-row 3': 'Leading Candidate',\n",
    "    'tablescraper-selected-row 4': 'Leading Party',\n",
    "    'tablescraper-selected-row 5': 'Trailing Candidate',\n",
    "    'tablescraper-selected-row 6': 'Trailing Party',\n",
    "    'tablescraper-selected-row 7': 'Margin'\n",
    "}, inplace=True)"
   ]
  },
  {
   "cell_type": "code",
   "execution_count": null,
   "id": "a58055d9-c6dc-48cb-b6a4-9b48fd08ec7f",
   "metadata": {},
   "outputs": [],
   "source": [
    "raj1_data=raj1_data.drop(columns=['table 6','table 15'])\n",
    "raj2_data=raj2_data.drop(columns=['table 6','table 15'])"
   ]
  },
  {
   "cell_type": "code",
   "execution_count": null,
   "id": "2797d526-f1e0-409e-8dda-5f6722d50dfe",
   "metadata": {},
   "outputs": [],
   "source": [
    "raj1_data.head()"
   ]
  },
  {
   "cell_type": "code",
   "execution_count": null,
   "id": "69e5011e-0e35-4c6b-b017-9c141885fe2c",
   "metadata": {},
   "outputs": [],
   "source": [
    "raj1_data.to_csv('Rajasthan1(result).csv', index=False)\n",
    "raj2_data.to_csv('Rajasthan2(result).csv', index=False)"
   ]
  },
  {
   "cell_type": "markdown",
   "id": "8efa828d-92fb-4d91-87ef-5d7c3dfb92af",
   "metadata": {},
   "source": [
    "Sikkim"
   ]
  },
  {
   "cell_type": "code",
   "execution_count": null,
   "id": "230859f9-893f-40d8-9d36-a8f0d8a9d807",
   "metadata": {},
   "outputs": [],
   "source": [
    "sikkim_data=pd.read_csv('Sikkim(result).csv')"
   ]
  },
  {
   "cell_type": "markdown",
   "id": "04de7985-8805-460e-a871-bf9514c0c363",
   "metadata": {},
   "source": [
    "Tamil NAdu"
   ]
  },
  {
   "cell_type": "code",
   "execution_count": null,
   "id": "7179247a-bf74-42aa-9e04-0973d6ffb69f",
   "metadata": {},
   "outputs": [],
   "source": [
    "tamil1_data=pd.read_csv('Tamil Nadu1(result).csv')\n",
    "tamil2_data=pd.read_csv('Tamil Nadu2(result).csv')\n"
   ]
  },
  {
   "cell_type": "code",
   "execution_count": null,
   "id": "87a86966-955e-49cd-bceb-e9fc607b35bf",
   "metadata": {},
   "outputs": [],
   "source": [
    "tamil1_data.rename(columns={\n",
    "    'tablescraper-selected-row': 'Constituency',\n",
    "    'tablescraper-selected-row 2': 'Const. No.',\n",
    "    'tablescraper-selected-row 3': 'Leading Candidate',\n",
    "    'tablescraper-selected-row 4': 'Leading Party',\n",
    "    'tablescraper-selected-row 5': 'Trailing Candidate',\n",
    "    'tablescraper-selected-row 6': 'Trailing Party',\n",
    "    'tablescraper-selected-row 7': 'Margin'\n",
    "}, inplace=True)\n",
    "tamil2_data.rename(columns={\n",
    "    'tablescraper-selected-row': 'Constituency',\n",
    "    'tablescraper-selected-row 2': 'Const. No.',\n",
    "    'tablescraper-selected-row 3': 'Leading Candidate',\n",
    "    'tablescraper-selected-row 4': 'Leading Party',\n",
    "    'tablescraper-selected-row 5': 'Trailing Candidate',\n",
    "    'tablescraper-selected-row 6': 'Trailing Party',\n",
    "    'tablescraper-selected-row 7': 'Margin'\n",
    "}, inplace=True)"
   ]
  },
  {
   "cell_type": "code",
   "execution_count": null,
   "id": "4c98f98d-67da-41ec-ade4-b7a51447df51",
   "metadata": {},
   "outputs": [],
   "source": [
    "tamil1_data.head()"
   ]
  },
  {
   "cell_type": "code",
   "execution_count": null,
   "id": "925e5601-232d-4ea0-aef8-030329030f01",
   "metadata": {},
   "outputs": [],
   "source": [
    "tamil2_data.head()"
   ]
  },
  {
   "cell_type": "code",
   "execution_count": null,
   "id": "fff75381-e61f-42ff-bbd3-b9a2d7c95d4c",
   "metadata": {},
   "outputs": [],
   "source": [
    "tamil1_data.to_csv('Tamil Nadu1(result).csv', index=False)\n",
    "tamil2_data.to_csv('Tamil Nadu2(result).csv', index=False)"
   ]
  },
  {
   "cell_type": "markdown",
   "id": "b21074b5-a202-4ecb-ab4b-bc2b658456e2",
   "metadata": {},
   "source": [
    "Telangana"
   ]
  },
  {
   "cell_type": "code",
   "execution_count": null,
   "id": "245421b1-7f9a-4dfe-9fc5-033e039aaf9f",
   "metadata": {},
   "outputs": [],
   "source": [
    "tela_data=pd.read_csv('Telangana(result).csv')"
   ]
  },
  {
   "cell_type": "code",
   "execution_count": null,
   "id": "1c1aa26c-d91b-4c6c-9429-54e0e587b801",
   "metadata": {},
   "outputs": [],
   "source": [
    "tela_data.rename(columns={\n",
    "    'tablescraper-selected-row': 'Constituency',\n",
    "    'tablescraper-selected-row 2': 'Const. No.',\n",
    "    'tablescraper-selected-row 3': 'Leading Candidate',\n",
    "    'tablescraper-selected-row 4': 'Leading Party',\n",
    "    'tablescraper-selected-row 5': 'Trailing Candidate',\n",
    "    'tablescraper-selected-row 6': 'Trailing Party',\n",
    "    'tablescraper-selected-row 7': 'Margin'\n",
    "}, inplace=True)"
   ]
  },
  {
   "cell_type": "code",
   "execution_count": null,
   "id": "1a7699ec-dcde-40f9-abc7-c4457aed9a54",
   "metadata": {},
   "outputs": [],
   "source": [
    "tela_data.to_csv('Telangana(result).csv', index=False)"
   ]
  },
  {
   "cell_type": "code",
   "execution_count": null,
   "id": "7cb1a8f5-e71e-4fa3-8db0-d40b5853ab19",
   "metadata": {},
   "outputs": [],
   "source": [
    "tela_data.head()"
   ]
  },
  {
   "cell_type": "code",
   "execution_count": null,
   "id": "1271d717-2bec-4e5a-8018-1e4d6dbfbfc0",
   "metadata": {},
   "outputs": [],
   "source": [
    "tela_data=tela_data.drop(columns=['table 15'])"
   ]
  },
  {
   "cell_type": "code",
   "execution_count": null,
   "id": "56a63d01-2ef9-4b0c-a0e8-b3ec02d6fa51",
   "metadata": {},
   "outputs": [],
   "source": [
    "tri_data=pd.read_csv('Tripura(result).csv')"
   ]
  },
  {
   "cell_type": "code",
   "execution_count": null,
   "id": "d926b53e-27c5-47c8-adbd-b5ad60026524",
   "metadata": {},
   "outputs": [],
   "source": [
    "tri_data.head()"
   ]
  },
  {
   "cell_type": "code",
   "execution_count": null,
   "id": "b732b84c-8256-457b-b2ff-8a2a1cfe3b39",
   "metadata": {},
   "outputs": [],
   "source": [
    "merged_df.head()"
   ]
  },
  {
   "cell_type": "code",
   "execution_count": null,
   "id": "95369b7e-7cf5-4b64-afea-a3285e44ed80",
   "metadata": {},
   "outputs": [],
   "source": [
    "merged_df['State'] = 'Uttar Pradesh'"
   ]
  },
  {
   "cell_type": "code",
   "execution_count": null,
   "id": "313059ef-614c-43de-88f8-1c92aea0d07e",
   "metadata": {},
   "outputs": [],
   "source": [
    "merged_df.head()"
   ]
  },
  {
   "cell_type": "code",
   "execution_count": null,
   "id": "a16ab30b-b352-4d52-9c41-5d0b581dfc83",
   "metadata": {},
   "outputs": [],
   "source": [
    "merged_df=merged_df.drop(columns=['state'])"
   ]
  },
  {
   "cell_type": "code",
   "execution_count": null,
   "id": "99a6e5ce-cad3-44b0-998a-af2c82a44021",
   "metadata": {},
   "outputs": [],
   "source": [
    "merged_df.head()"
   ]
  },
  {
   "cell_type": "code",
   "execution_count": null,
   "id": "4b74ef89-d460-4ac3-83cd-1182335e7db6",
   "metadata": {},
   "outputs": [],
   "source": [
    "merged_df.to_csv('merged_results.csv', index=False)"
   ]
  },
  {
   "cell_type": "markdown",
   "id": "e4eb6eba-eefa-4ae9-9f43-2b7fbee2209a",
   "metadata": {},
   "source": [
    "Uttarakhand"
   ]
  },
  {
   "cell_type": "code",
   "execution_count": null,
   "id": "f7682855-1b7c-4f78-865a-6e6561a63184",
   "metadata": {},
   "outputs": [],
   "source": [
    "utt_data=pd.read_csv('Uttrakand(result).csv')"
   ]
  },
  {
   "cell_type": "code",
   "execution_count": null,
   "id": "62fc2cdf-16ba-4787-b868-791e968f230f",
   "metadata": {},
   "outputs": [],
   "source": [
    "utt_data.rename(columns={\n",
    "    'tablescraper-selected-row': 'Constituency',\n",
    "    'tablescraper-selected-row 2': 'Const. No.',\n",
    "    'tablescraper-selected-row 3': 'Leading Candidate',\n",
    "    'tablescraper-selected-row 4': 'Leading Party',\n",
    "    'tablescraper-selected-row 5': 'Trailing Candidate',\n",
    "    'tablescraper-selected-row 6': 'Trailing Party',\n",
    "    'tablescraper-selected-row 7': 'Margin'\n",
    "}, inplace=True)"
   ]
  },
  {
   "cell_type": "code",
   "execution_count": null,
   "id": "2d90578f-c339-4719-90fe-65965f79c8d0",
   "metadata": {},
   "outputs": [],
   "source": [
    "utt_data.head()"
   ]
  },
  {
   "cell_type": "markdown",
   "id": "7c45fca7-463b-46c6-a800-36c155bae845",
   "metadata": {},
   "source": [
    "West Bengal"
   ]
  },
  {
   "cell_type": "code",
   "execution_count": null,
   "id": "1fe7ea69-7c15-49bd-a598-a19f9e1fe61d",
   "metadata": {},
   "outputs": [],
   "source": [
    "west1_data=pd.read_csv('West Bengal1(result).csv')\n",
    "west2_data=pd.read_csv('West Bengal_2(result).csv')"
   ]
  },
  {
   "cell_type": "code",
   "execution_count": null,
   "id": "2c2eaf9c-ab6a-4688-9016-a0eda1aa4946",
   "metadata": {},
   "outputs": [],
   "source": [
    "west1_data.rename(columns={\n",
    "    'tablescraper-selected-row': 'Constituency',\n",
    "    'tablescraper-selected-row 2': 'Const. No.',\n",
    "    'tablescraper-selected-row 3': 'Leading Candidate',\n",
    "    'tablescraper-selected-row 4': 'Leading Party',\n",
    "    'tablescraper-selected-row 5': 'Trailing Candidate',\n",
    "    'tablescraper-selected-row 6': 'Trailing Party',\n",
    "    'tablescraper-selected-row 7': 'Margin'\n",
    "}, inplace=True)\n",
    "west2_data.rename(columns={\n",
    "    'tablescraper-selected-row': 'Constituency',\n",
    "    'tablescraper-selected-row 2': 'Const. No.',\n",
    "    'tablescraper-selected-row 3': 'Leading Candidate',\n",
    "    'tablescraper-selected-row 4': 'Leading Party',\n",
    "    'tablescraper-selected-row 5': 'Trailing Candidate',\n",
    "    'tablescraper-selected-row 6': 'Trailing Party',\n",
    "    'tablescraper-selected-row 7': 'Margin'\n",
    "}, inplace=True)"
   ]
  },
  {
   "cell_type": "code",
   "execution_count": null,
   "id": "4378f69e-5dd9-4984-ba88-62b15f63f70a",
   "metadata": {},
   "outputs": [],
   "source": [
    "west1_data.head()"
   ]
  },
  {
   "cell_type": "code",
   "execution_count": null,
   "id": "677fe761-de09-4e19-9350-6ff9a6595837",
   "metadata": {},
   "outputs": [],
   "source": [
    "west1_data.to_csv('West Bengal1(result).csv', index=False)\n",
    "west2_data.to_csv('West Bengal_2(result).csv', index=False)"
   ]
  },
  {
   "cell_type": "code",
   "execution_count": null,
   "id": "b2e8d3f9-49d8-453d-b59c-588b8f4aa3b8",
   "metadata": {},
   "outputs": [],
   "source": [
    "dfs4 = [raj1_data, raj2_data, sikkim_data, tamil1_data, tamil2_data, \n",
    "       tela_data, tri_data, merged_df, utt_data, west1_data, west2_data]\n",
    "\n",
    "# Concatenate all DataFrames into half_3_data\n",
    "half_3_data = pd.concat(dfs4, ignore_index=True)"
   ]
  },
  {
   "cell_type": "code",
   "execution_count": null,
   "id": "9b7c2617-c1a1-40c9-afe2-d0c62e742c95",
   "metadata": {},
   "outputs": [],
   "source": [
    "half_3_data.head()"
   ]
  },
  {
   "cell_type": "code",
   "execution_count": null,
   "id": "f4de9c90-6533-44cf-8904-52d50e924620",
   "metadata": {},
   "outputs": [],
   "source": [
    "half_3_data.to_csv('half_3_data.csv', index=False)"
   ]
  },
  {
   "cell_type": "markdown",
   "id": "e1fa9cf8-0a88-4dee-928d-29138c7381d1",
   "metadata": {},
   "source": [
    "**Combining of all data to make into one Indian election result csv file**"
   ]
  },
  {
   "cell_type": "code",
   "execution_count": null,
   "id": "a9f0bced-72a2-489c-a1d8-02df022a30d8",
   "metadata": {},
   "outputs": [],
   "source": [
    "\n",
    "dfs5 = [half_data, half_2_data, half_3_data]\n",
    "Indian_result = pd.concat(dfs5, ignore_index=True)\n"
   ]
  },
  {
   "cell_type": "code",
   "execution_count": null,
   "id": "369ef6e4-3506-4ca7-8fe9-27cbecd3068c",
   "metadata": {},
   "outputs": [],
   "source": [
    "Indian_result.to_csv('Indian_result.csv', index=False)"
   ]
  },
  {
   "cell_type": "code",
   "execution_count": null,
   "id": "b9a68756-a2b4-47f2-bd70-02d6b6a498f8",
   "metadata": {},
   "outputs": [],
   "source": [
    "Indian_result=Indian_result.drop(columns=['state'])"
   ]
  },
  {
   "cell_type": "code",
   "execution_count": null,
   "id": "45534c6c-f35e-4f64-94ae-d808e8a4b1a7",
   "metadata": {},
   "outputs": [],
   "source": [
    "Indian_result.to_csv('Indian_result.csv', index=False)"
   ]
  },
  {
   "cell_type": "code",
   "execution_count": null,
   "id": "7e05800e-b9fc-4522-b61d-923c9336ba07",
   "metadata": {},
   "outputs": [],
   "source": [
    "Indian_result.shape"
   ]
  },
  {
   "cell_type": "code",
   "execution_count": null,
   "id": "72ee1262-3e98-41fb-bcee-a71962920119",
   "metadata": {},
   "outputs": [],
   "source": [
    "bjp_leading_count = Indian_result['Leading Party'].str.contains('Bharatiya Janata Party', na=False).sum()\n",
    "\n",
    "print(\"Bharatiya Janata Party is leading in:\", bjp_leading_count, \"constituencies\")"
   ]
  },
  {
   "cell_type": "code",
   "execution_count": null,
   "id": "6193d495-aeb3-44cf-8d47-53ec3e676015",
   "metadata": {},
   "outputs": [],
   "source": [
    "andhra2_data=pd.read_csv('andhra2(result).csv')"
   ]
  },
  {
   "cell_type": "code",
   "execution_count": null,
   "id": "2612cbd4-dd0d-4fbd-9a8f-8ca8213924fc",
   "metadata": {},
   "outputs": [],
   "source": [
    "andhra2_data.rename(columns={\n",
    "    'tablescraper-selected-row': 'Constituency',\n",
    "    'tablescraper-selected-row 2': 'Const. No.',\n",
    "    'tablescraper-selected-row 3': 'Leading Candidate',\n",
    "    'tablescraper-selected-row 4': 'Leading Party',\n",
    "    'tablescraper-selected-row 5': 'Trailing Candidate',\n",
    "    'tablescraper-selected-row 6': 'Trailing Party',\n",
    "    'tablescraper-selected-row 7': 'Margin'\n",
    "}, inplace=True)"
   ]
  },
  {
   "cell_type": "code",
   "execution_count": null,
   "id": "495d63a0-dbca-4a1e-a2b5-fc592718fb7e",
   "metadata": {},
   "outputs": [],
   "source": [
    "Indian_result = pd.concat([Indian_result, andhra2_data], ignore_index=True)"
   ]
  },
  {
   "cell_type": "code",
   "execution_count": null,
   "id": "8d315546-80ac-4a46-9d00-e6a91219b5cf",
   "metadata": {},
   "outputs": [],
   "source": [
    "Indian_result.shape"
   ]
  },
  {
   "cell_type": "code",
   "execution_count": null,
   "id": "b676643c-5164-46c8-8f30-45440839f544",
   "metadata": {},
   "outputs": [],
   "source": [
    "# Count constituencies in Bihar\n",
    "bihar_count = Indian_result[Indian_result['State'] == 'Madhya Pradesh']['Constituency'].nunique()\n",
    "\n",
    "print(\"Number of constituencies in Bihar:\", bihar_count)\n"
   ]
  },
  {
   "cell_type": "code",
   "execution_count": null,
   "id": "9d5c96a5-e0d7-4cc0-9cf4-402d4d68b40a",
   "metadata": {},
   "outputs": [],
   "source": [
    "maha_data=pd.read_csv('Maharashtra1(result).csv')"
   ]
  },
  {
   "cell_type": "code",
   "execution_count": null,
   "id": "96aefec1-481e-4f0d-943c-790cc97e1b64",
   "metadata": {},
   "outputs": [],
   "source": [
    "maha_data.rename(columns={\n",
    "    'tablescraper-selected-row': 'Constituency',\n",
    "    'tablescraper-selected-row 2': 'Const. No.',\n",
    "    'tablescraper-selected-row 3': 'Leading Candidate',\n",
    "    'tablescraper-selected-row 4': 'Leading Party',\n",
    "    'tablescraper-selected-row 5': 'Trailing Candidate',\n",
    "    'tablescraper-selected-row 6': 'Trailing Party',\n",
    "    'tablescraper-selected-row 7': 'Margin'\n",
    "}, inplace=True)"
   ]
  },
  {
   "cell_type": "code",
   "execution_count": null,
   "id": "4cebdb89-fa3b-4797-9476-4b472394ba5c",
   "metadata": {},
   "outputs": [],
   "source": [
    "maha_data.to_csv('Maharashtra1(result).csv', index=False)"
   ]
  },
  {
   "cell_type": "code",
   "execution_count": null,
   "id": "d411f76c-41f1-4c7b-945f-af113ba71d81",
   "metadata": {},
   "outputs": [],
   "source": [
    "Indian_result = pd.concat([Indian_result, maha_data], ignore_index=True)"
   ]
  },
  {
   "cell_type": "code",
   "execution_count": null,
   "id": "55a94c9f-068d-4103-9bce-2a07cfb27767",
   "metadata": {},
   "outputs": [],
   "source": [
    "Indian_result.to_csv('Indian_result.csv', index=False)"
   ]
  },
  {
   "cell_type": "code",
   "execution_count": null,
   "id": "710ca1f6-0f0e-4599-aa26-0db3cc335518",
   "metadata": {},
   "outputs": [],
   "source": [
    "# Count constituencies in Bihar\n",
    "bihar_count = Indian_result[Indian_result['State'] == 'Maharashtra']['Constituency'].nunique()\n",
    "\n",
    "print(\"Number of constituencies in Bihar:\", bihar_count)\n"
   ]
  },
  {
   "cell_type": "code",
   "execution_count": null,
   "id": "a0b5bdc6-bf11-4992-9a4a-099fe963dfb2",
   "metadata": {},
   "outputs": [],
   "source": [
    "maha2_data=pd.read_csv('Maharashtra3(result).csv')"
   ]
  },
  {
   "cell_type": "code",
   "execution_count": null,
   "id": "f598c83c-4696-4d23-835b-3aa38242730c",
   "metadata": {},
   "outputs": [],
   "source": [
    "maha2_data.rename(columns={\n",
    "    'tablescraper-selected-row': 'Constituency',\n",
    "    'tablescraper-selected-row 2': 'Const. No.',\n",
    "    'tablescraper-selected-row 3': 'Leading Candidate',\n",
    "    'tablescraper-selected-row 4': 'Leading Party',\n",
    "    'tablescraper-selected-row 5': 'Trailing Candidate',\n",
    "    'tablescraper-selected-row 6': 'Trailing Party',\n",
    "    'tablescraper-selected-row 7': 'Margin'\n",
    "}, inplace=True)"
   ]
  },
  {
   "cell_type": "code",
   "execution_count": null,
   "id": "158a6d2b-e289-40cc-8066-31aacac2e687",
   "metadata": {},
   "outputs": [],
   "source": [
    "maha2_data.to_csv('Maharashtra3(result).csv', index=False)"
   ]
  },
  {
   "cell_type": "code",
   "execution_count": null,
   "id": "f71c4824-876c-4947-842c-658911069c6d",
   "metadata": {},
   "outputs": [],
   "source": [
    "Indian_result = pd.concat([Indian_result, maha2_data], ignore_index=True)"
   ]
  },
  {
   "cell_type": "code",
   "execution_count": null,
   "id": "183376fc-e718-44d6-9288-da440d4f44fe",
   "metadata": {},
   "outputs": [],
   "source": [
    "Indian_result.to_csv('Indian_result.csv', index=False)"
   ]
  },
  {
   "cell_type": "code",
   "execution_count": null,
   "id": "ef6581dd-7da1-4621-bd44-73bdfe607f77",
   "metadata": {},
   "outputs": [],
   "source": [
    "# Replace incorrect party name with the correct one\n",
    "Indian_result['Leading Party'] = Indian_result['Leading Party'].replace('Bharatiya Janata Partyi', 'Bharatiya Janata Party')\n",
    "Indian_result.to_csv('Indian_result.csv', index=False)\n"
   ]
  },
  {
   "cell_type": "code",
   "execution_count": null,
   "id": "85397c53-e4c5-4056-9e10-b18b265ca4ab",
   "metadata": {},
   "outputs": [],
   "source": [
    "Indian_result.shape"
   ]
  },
  {
   "cell_type": "markdown",
   "id": "e9eb230d-0741-48cb-b789-849925167ee5",
   "metadata": {},
   "source": [
    "**Exploratory data analysis of Indian Election result**"
   ]
  },
  {
   "cell_type": "markdown",
   "id": "f04535b0-5e0a-4f3d-b433-c27a00ec3943",
   "metadata": {},
   "source": [
    "Number of Seats Won By Each Party"
   ]
  },
  {
   "cell_type": "code",
   "execution_count": null,
   "id": "d3f37ac1-f035-4237-8d0e-f251a9903f72",
   "metadata": {},
   "outputs": [],
   "source": [
    "leading_party_counts = Indian_result['Leading Party'].value_counts()\n",
    "\n",
    "print(\"Seats Won By parties:\")\n",
    "print(leading_party_counts)\n"
   ]
  },
  {
   "cell_type": "code",
   "execution_count": null,
   "id": "77831f9c-7a3f-4b01-bdd9-dbaa5c5d8db9",
   "metadata": {},
   "outputs": [],
   "source": [
    "seats_won = Indian_result['Leading Party'].value_counts()\n",
    "\n",
    "plt.figure(figsize=(10, 8))\n",
    "plt.pie(seats_won, labels=seats_won.index, autopct='%1.1f%%', startangle=140)\n",
    "plt.title('Seats Won by Each Party')\n",
    "plt.axis('equal')\n",
    "plt.show()"
   ]
  },
  {
   "cell_type": "markdown",
   "id": "b8cc3ffe-e56b-4132-a269-ff317731812d",
   "metadata": {},
   "source": [
    "Parties With Most Trailing Count"
   ]
  },
  {
   "cell_type": "code",
   "execution_count": null,
   "id": "d3ab2ed8-d67e-41c9-a7ef-775c8e194fe4",
   "metadata": {},
   "outputs": [],
   "source": [
    "trailing_party_counts = Indian_result['Trailing Party'].value_counts()\n",
    "\n",
    "max_trailing_count = trailing_party_counts.max()\n",
    "\n",
    "parties_with_max_trailing = trailing_party_counts[trailing_party_counts == max_trailing_count]\n",
    "\n",
    "#print(\"Number of parties with the most trailing count:\", len(parties_with_max_trailing))\n",
    "print(\"Parties with the most trailing count:\")\n",
    "print(parties_with_max_trailing)\n"
   ]
  },
  {
   "cell_type": "code",
   "execution_count": null,
   "id": "6805d43d-9590-42c9-8b0d-ca517795a6c5",
   "metadata": {},
   "outputs": [],
   "source": [
    "trailing_party_counts = Indian_result['Trailing Party'].value_counts()\n",
    "\n",
    "# Get the top 5 parties with the most trailing count\n",
    "top_5_trailing_parties = trailing_party_counts.head(5)\n",
    "\n",
    "plt.figure(figsize=(10, 6))\n",
    "top_5_trailing_parties.plot(kind='bar', color='skyblue')\n",
    "plt.title('Top 5 Parties with Most Trailing Count')\n",
    "plt.xlabel('Party')\n",
    "plt.ylabel('Trailing Count')\n",
    "plt.xticks(rotation=45)\n",
    "plt.grid(axis='y', linestyle='--', alpha=0.7)\n",
    "plt.tight_layout()\n",
    "plt.show()\n",
    "top_5_trailing_parties_df = pd.DataFrame(top_5_trailing_parties).reset_index()\n",
    "top_5_trailing_parties_df.columns = ['Party', 'Trailing Count']\n",
    "\n",
    "# Specify the file path\n",
    "output_csv_path = 'top_5_trailing_parties.csv'\n",
    "\n",
    "# Save to CSV\n",
    "top_5_trailing_parties_df.to_csv(output_csv_path, index=False)\n"
   ]
  },
  {
   "cell_type": "markdown",
   "id": "e9b6dc9d-d764-4c82-abcd-3ac582c830dd",
   "metadata": {},
   "source": [
    "Top 5 parties with most seats won"
   ]
  },
  {
   "cell_type": "code",
   "execution_count": null,
   "id": "152ea753-279d-4206-ade4-d75205e893d4",
   "metadata": {},
   "outputs": [],
   "source": [
    "seats_won = Indian_result['Leading Party'].value_counts()\n",
    "\n",
    "# Get the top 5 parties with the most seats won\n",
    "top_5_parties = seats_won.head(5)\n",
    "\n",
    "# Plotting\n",
    "plt.figure(figsize=(10, 6))\n",
    "top_5_parties.plot(kind='bar', color='lightgreen')\n",
    "plt.title('Top 5 Parties with Most Seats Won')\n",
    "plt.xlabel('Party')\n",
    "plt.ylabel('Seats Won')\n",
    "plt.xticks(rotation=45)\n",
    "plt.grid(axis='y', linestyle='--', alpha=0.7)\n",
    "plt.tight_layout()\n",
    "plt.show()"
   ]
  },
  {
   "cell_type": "markdown",
   "id": "4311ffd8-39ee-4be4-ae4b-2729385bac12",
   "metadata": {},
   "source": [
    "Top 10 states with most constituencies"
   ]
  },
  {
   "cell_type": "code",
   "execution_count": null,
   "id": "a810008c-8fe6-4cdb-8010-8ce78db22997",
   "metadata": {},
   "outputs": [],
   "source": [
    "state_counts = Indian_result['State'].value_counts()\n",
    "\n",
    "top_10_states = state_counts.head(10)\n",
    "\n",
    "plt.figure(figsize=(10, 6))\n",
    "top_10_states.plot(kind='bar', color='salmon')\n",
    "plt.title('Top 10 States with Most Constituencies')\n",
    "plt.xlabel('State')\n",
    "plt.ylabel('Number of Constituencies')\n",
    "plt.xticks(rotation=45)\n",
    "plt.grid(axis='y', linestyle='--', alpha=0.7)\n",
    "plt.tight_layout()\n",
    "plt.show()"
   ]
  },
  {
   "cell_type": "markdown",
   "id": "748a2265-a0de-4325-83b8-4e715a14b38c",
   "metadata": {},
   "source": [
    "10 states with least constituencies"
   ]
  },
  {
   "cell_type": "code",
   "execution_count": null,
   "id": "8c500a59-6096-4282-8a92-46f48ca4a7b3",
   "metadata": {},
   "outputs": [],
   "source": [
    "state_counts = Indian_result['State'].value_counts()\n",
    "\n",
    "bottom_10_states = state_counts.tail(10)\n",
    "\n",
    "plt.figure(figsize=(10, 6))\n",
    "bottom_10_states.plot(kind='bar', color='lightblue')\n",
    "plt.title('10 States with Least Constituencies')\n",
    "plt.xlabel('State')\n",
    "plt.ylabel('Number of Constituencies')\n",
    "plt.xticks(rotation=45)\n",
    "plt.grid(axis='y', linestyle='--', alpha=0.7)\n",
    "plt.tight_layout()\n",
    "plt.show()"
   ]
  },
  {
   "cell_type": "markdown",
   "id": "641cf392-58fa-4d3e-a7b4-d95b21e84b3a",
   "metadata": {},
   "source": [
    "Candidate with Biggest Win"
   ]
  },
  {
   "cell_type": "code",
   "execution_count": null,
   "id": "bf28c52c-55d8-4322-8dbf-5562ad2d76de",
   "metadata": {},
   "outputs": [],
   "source": [
    "Indian_result['Margin'] = pd.to_numeric(Indian_result['Margin'], errors='coerce')\n",
    "\n",
    "max_margin_row = Indian_result.loc[Indian_result['Margin'].idxmax()]\n",
    "\n",
    "winning_candidate_name = max_margin_row['Leading Candidate']\n",
    "\n",
    "print(\"Name of the candidate who won with the biggest margin:\", winning_candidate_name)"
   ]
  },
  {
   "cell_type": "markdown",
   "id": "3de417db-fd4b-42a4-82db-fda818abcafe",
   "metadata": {},
   "source": [
    "Extracting Details Relaited to Shankar Lalwani"
   ]
  },
  {
   "cell_type": "code",
   "execution_count": null,
   "id": "c35430c9-041f-46e2-b44b-2221dbbade87",
   "metadata": {},
   "outputs": [],
   "source": [
    "candidate_name = 'SHANKAR LALWANI'\n",
    "candidate_data = Indian_result[Indian_result['Leading Candidate'] == candidate_name]\n",
    "\n",
    "relevant_columns = ['Margin', 'Leading Candidate', 'State', 'Constituency', 'Leading Party']\n",
    "candidate_info = candidate_data[relevant_columns]\n",
    "\n",
    "print(\"Information for SHANKAR LALWANI:\")\n",
    "print(candidate_info)\n"
   ]
  },
  {
   "cell_type": "markdown",
   "id": "37e9bcc7-3ae7-4ef2-80bc-9b1f45deed72",
   "metadata": {},
   "source": [
    "Candidate with Smallest Victory"
   ]
  },
  {
   "cell_type": "code",
   "execution_count": null,
   "id": "8075afa4-58b9-4026-9211-055db1aa8b91",
   "metadata": {},
   "outputs": [],
   "source": [
    "# Convert 'Margin' column to numeric (if it's not already)\n",
    "Indian_result['Margin'] = pd.to_numeric(Indian_result['Margin'], errors='coerce')\n",
    "\n",
    "# Find the row with the minimum margin\n",
    "min_margin_row = Indian_result.loc[Indian_result['Margin'].idxmin()]\n",
    "\n",
    "# Extract the details of the candidate with the least victory margin\n",
    "candidate_name = min_margin_row['Leading Candidate']\n",
    "victory_margin = min_margin_row['Margin']\n",
    "state = min_margin_row['State']\n",
    "constituency = min_margin_row['Constituency']\n",
    "party_name = min_margin_row['Leading Party']\n",
    "\n",
    "# Print the information\n",
    "print(f\"Candidate with least victory margin:\")\n",
    "print(f\"Name: {candidate_name}\")\n",
    "print(f\"Margin: {victory_margin}\")\n",
    "print(f\"State: {state}\")\n",
    "print(f\"Constituency: {constituency}\")\n",
    "print(f\"Party: {party_name}\")\n"
   ]
  },
  {
   "cell_type": "markdown",
   "id": "d9f08fc3-d1a3-4cb3-8dfd-510aa54f1f39",
   "metadata": {},
   "source": [
    "Top 10 candidates with biggest win"
   ]
  },
  {
   "cell_type": "code",
   "execution_count": null,
   "id": "232c200b-ccf1-47f7-b608-0b92649ec2c0",
   "metadata": {},
   "outputs": [],
   "source": [
    "import matplotlib.pyplot as plt\n",
    "\n",
    "Indian_result['Margin'] = pd.to_numeric(Indian_result['Margin'], errors='coerce')\n",
    "\n",
    "top_10_candidates = Indian_result.nlargest(10, 'Margin')\n",
    "\n",
    "plt.figure(figsize=(12, 8))\n",
    "plt.barh(top_10_candidates['Leading Candidate'], top_10_candidates['Margin'], color='skyblue')\n",
    "plt.xlabel('Margin')\n",
    "plt.ylabel('Candidate')\n",
    "plt.title('Top 10 Candidates with Biggest Margin Wins')\n",
    "plt.gca().invert_yaxis()  \n",
    "plt.grid(axis='x', linestyle='--', alpha=0.7)\n",
    "plt.tight_layout()\n",
    "plt.show()\n",
    "plt.show()\r\n"
   ]
  },
  {
   "cell_type": "markdown",
   "id": "27d2f3bb-a439-4ffc-9242-7fb88502f059",
   "metadata": {},
   "source": [
    "Top 10 Candidates with smallest victory margin"
   ]
  },
  {
   "cell_type": "code",
   "execution_count": null,
   "id": "45193fd7-56a3-4668-ad68-68b46023c444",
   "metadata": {},
   "outputs": [],
   "source": [
    "Indian_result['Margin'] = pd.to_numeric(Indian_result['Margin'], errors='coerce')\n",
    "\n",
    "top_10_smallest_margin = Indian_result.nsmallest(10, 'Margin')\n",
    "plt.figure(figsize=(12, 8))\n",
    "plt.barh(top_10_smallest_margin['Leading Candidate'], top_10_smallest_margin['Margin'], color='lightcoral')\n",
    "plt.xlabel('Margin')\n",
    "plt.ylabel('Candidate')\n",
    "plt.title('Top 10 Candidates with Smallest Victory Margin')\n",
    "plt.gca().invert_yaxis()  # Invert y-axis to display smallest margin at the top\n",
    "plt.grid(axis='x', linestyle='--', alpha=0.7)\n",
    "plt.tight_layout()\n",
    "plt.show()"
   ]
  },
  {
   "cell_type": "markdown",
   "id": "c817111f-41d7-4024-a3ed-5bb23b1adbc1",
   "metadata": {},
   "source": [
    "Top 5 states in which BJP won most seats in terms of percentage"
   ]
  },
  {
   "cell_type": "code",
   "execution_count": null,
   "id": "8fd87c44-9fca-4be4-949e-329010e5f168",
   "metadata": {},
   "outputs": [],
   "source": [
    "bjp_data = Indian_result[Indian_result['Leading Party'] == 'Bharatiya Janata Party']\n",
    "\n",
    "state_counts = bjp_data['State'].value_counts()\n",
    "\n",
    "total_constituencies = Indian_result['State'].value_counts()\n",
    "\n",
    "winning_percentage = (state_counts / total_constituencies) * 100\n",
    "\n",
    "top_10_states = winning_percentage.sort_values(ascending=False).head(10)\n",
    "\n",
    "plt.figure(figsize=(12, 8))\n",
    "top_10_states.plot(kind='bar', color='skyblue')\n",
    "plt.xlabel('State')\n",
    "plt.ylabel('Winning Percentage (%)')\n",
    "plt.title('Top 10 States with Highest Winning Percentage for BJP')\n",
    "plt.xticks(rotation=45)\n",
    "plt.grid(axis='y', linestyle='--', alpha=0.7)\n",
    "plt.tight_layout()\n",
    "plt.show()"
   ]
  },
  {
   "cell_type": "markdown",
   "id": "dc74d6a2-0729-4917-8994-c8c3adda71fe",
   "metadata": {},
   "source": [
    "Top 10 states in which BJP won most seats in terms of Number"
   ]
  },
  {
   "cell_type": "code",
   "execution_count": null,
   "id": "b29309fc-9da3-4f4c-973c-c04d88029993",
   "metadata": {},
   "outputs": [],
   "source": [
    "\n",
    "bjp_data = Indian_result[Indian_result['Leading Party'] == 'Bharatiya Janata Party']\n",
    "\n",
    "bjp_seat_counts = bjp_data.groupby('State').size().reset_index(name='Seats Won by BJP')\n",
    "\n",
    "top_10_states_bjp = bjp_seat_counts.sort_values(by='Seats Won by BJP', ascending=False).head(10)\n",
    "\n",
    "plt.figure(figsize=(12, 8))\n",
    "plt.bar(top_10_states_bjp['State'], top_10_states_bjp['Seats Won by BJP'], color='lightblue')\n",
    "plt.xlabel('State')\n",
    "plt.ylabel('Seats Won by BJP')\n",
    "plt.title('Top 10 States with Most Seats Won by BJP')\n",
    "plt.xticks(rotation=45)\n",
    "plt.grid(axis='y', linestyle='--', alpha=0.7)\n",
    "plt.tight_layout()\n",
    "plt.show()\n"
   ]
  },
  {
   "cell_type": "markdown",
   "id": "9c784225-aa3a-4747-8b00-dc7bfbb18586",
   "metadata": {},
   "source": [
    "Top 5 states in which Congress Won most seats in term of numbers"
   ]
  },
  {
   "cell_type": "code",
   "execution_count": null,
   "id": "3a1c55e4-0e04-4c96-8993-d0c30749a0f3",
   "metadata": {},
   "outputs": [],
   "source": [
    "\n",
    "congress_data = Indian_result[Indian_result['Leading Party'] == 'Indian National Congress']\n",
    "\n",
    "congress_seat_counts = congress_data.groupby('State').size().reset_index(name='Seats Won by Congress')\n",
    "\n",
    "top_5_states_congress = congress_seat_counts.sort_values(by='Seats Won by Congress', ascending=False).head(5)\n",
    "\n",
    "plt.figure(figsize=(10, 6))\n",
    "plt.bar(top_5_states_congress['State'], top_5_states_congress['Seats Won by Congress'], color='lightgreen')\n",
    "plt.xlabel('State')\n",
    "plt.ylabel('Seats Won by Congress')\n",
    "plt.title('Top 5 States with Most Seats Won by Congress')\n",
    "plt.xticks(rotation=45)\n",
    "plt.grid(axis='y', linestyle='--', alpha=0.7)\n",
    "plt.tight_layout()\n",
    "plt.show()\n"
   ]
  },
  {
   "cell_type": "markdown",
   "id": "a2c1fbce-792b-452c-8b5b-97ad4ee0f198",
   "metadata": {},
   "source": [
    "Top 5 states in which BJP and congress had the closest fight"
   ]
  },
  {
   "cell_type": "code",
   "execution_count": null,
   "id": "7d87cde7-1ba3-4e4c-820a-800f4756de7a",
   "metadata": {},
   "outputs": [],
   "source": [
    "\n",
    "bjp_data = Indian_result[Indian_result['Leading Party'] == 'Bharatiya Janata Party']\n",
    "congress_data = Indian_result[Indian_result['Leading Party'] == 'Indian National Congress']\n",
    "\n",
    "bjp_seat_counts = bjp_data.groupby('State').size().reset_index(name='Seats Won by BJP')\n",
    "\n",
    "congress_seat_counts = congress_data.groupby('State').size().reset_index(name='Seats Won by Congress')\n",
    "\n",
    "merged_counts = pd.merge(bjp_seat_counts, congress_seat_counts, on='State', how='outer').fillna(0)\n",
    "\n",
    "merged_counts['Seat Difference'] = abs(merged_counts['Seats Won by BJP'] - merged_counts['Seats Won by Congress'])\n",
    "\n",
    "closest_fights = merged_counts.sort_values(by='Seat Difference').head(5)\n",
    "\n",
    "plt.figure(figsize=(12, 8))\n",
    "plt.bar(closest_fights['State'], closest_fights['Seat Difference'], color='orange')\n",
    "plt.xlabel('State')\n",
    "plt.ylabel('Seat Difference (BJP - Congress)')\n",
    "plt.title('Top 5 States with Closest Fights between BJP and Congress')\n",
    "plt.xticks(rotation=45)\n",
    "plt.grid(axis='y', linestyle='--', alpha=0.7)\n",
    "plt.tight_layout()\n",
    "plt.show()\n",
    "\n",
    "print(\"Top 5 States with Closest Fights between BJP and Congress:\")\n",
    "print(closest_fights[['State', 'Seats Won by BJP', 'Seats Won by Congress', 'Seat Difference']])\n"
   ]
  },
  {
   "cell_type": "markdown",
   "id": "8605e0f4-e240-4568-912c-ad977d30bf40",
   "metadata": {},
   "source": [
    "States in which neither BJP nor Congress was the best performing party"
   ]
  },
  {
   "cell_type": "code",
   "execution_count": null,
   "id": "82e4a74e-5362-4190-95e1-abcbe2d63174",
   "metadata": {},
   "outputs": [],
   "source": [
    "other_parties_data = Indian_result[~Indian_result['Leading Party'].isin(['Indian National Congress', 'Bharatiya Janata Party'])]\n",
    "\n",
    "states_neither_congress_nor_bjp = other_parties_data['State'].unique()\n",
    "\n",
    "print(\"States where neither Congress nor BJP was the winning party:\")\n",
    "print(states_neither_congress_nor_bjp)\n",
    "\n",
    "\n",
    "\n",
    "\n",
    "\n",
    "\n",
    "\n",
    "\n"
   ]
  },
  {
   "cell_type": "markdown",
   "id": "fa14f266-aecd-4642-81c1-86c401b04631",
   "metadata": {},
   "source": [
    "Average Margin of Victory for BJP, Congress, TNC, Samajwadi Party"
   ]
  },
  {
   "cell_type": "code",
   "execution_count": null,
   "id": "e19a1d87-8577-47dc-b7af-8262c3446cd2",
   "metadata": {},
   "outputs": [],
   "source": [
    "\n",
    "parties_of_interest = ['Bharatiya Janata Party', 'Indian National Congress', 'All India Trinamool Congress',\n",
    "                       'Samajwadi Party', 'Dravida Munnetra Kazhagam (DMK)']\n",
    "\n",
    "filtered_data = Indian_result[Indian_result['Leading Party'].isin(parties_of_interest)]\n",
    "\n",
    "average_margin = filtered_data.groupby('Leading Party')['Margin'].mean()\n",
    "\n",
    "plt.figure(figsize=(10, 6))\n",
    "average_margin.plot(kind='bar', color='skyblue')\n",
    "plt.title('Average Margin of Victory for Selected Parties')\n",
    "plt.xlabel('Party')\n",
    "plt.ylabel('Average Margin of Victory')\n",
    "plt.xticks(rotation=45)\n",
    "plt.grid(axis='y', linestyle='--', alpha=0.7)\n",
    "plt.tight_layout()\n",
    "plt.show()\n"
   ]
  },
  {
   "cell_type": "markdown",
   "id": "11aef0f6-67bc-41a5-809a-92ace6981da9",
   "metadata": {},
   "source": [
    "Top 5 states where congress performed worst"
   ]
  },
  {
   "cell_type": "code",
   "execution_count": null,
   "id": "34f5bd90-475b-4568-94c4-cb956c171473",
   "metadata": {},
   "outputs": [],
   "source": [
    "\n",
    "congress_data = Indian_result[Indian_result['Leading Party'] == 'Indian National Congress']\n",
    "\n",
    "seats_by_state = Indian_result.groupby('State')['Constituency'].count().reset_index()\n",
    "congress_seats_by_state = congress_data.groupby('State')['Constituency'].count().reset_index()\n",
    "\n",
    "merged_data = pd.merge(seats_by_state, congress_seats_by_state, on='State', suffixes=('_total', '_congress'))\n",
    "merged_data['Percentage'] = (merged_data['Constituency_congress'] / merged_data['Constituency_total']) * 100\n",
    "\n",
    "worst_performing_states = merged_data.sort_values(by='Percentage').head(5)\n",
    "\n",
    "# Display the top 5 states where Congress performed the worst in terms of percentage\n",
    "top_5_worst_states = worst_performing_states[['State', 'Percentage']]\n",
    "print(\"Top 5 states where Congress performed the worst in terms of percentage:\")\n",
    "print(top_5_worst_states)\n",
    "plt.figure(figsize=(10, 6))\n",
    "plt.bar(top_5_worst_states['State'], top_5_worst_states['Percentage'], color='blue')\n",
    "plt.xlabel('States')\n",
    "plt.ylabel('Percentage of Seats Won by Congress')\n",
    "plt.title('Top 5 States where Congress Performed the Worst')\n",
    "plt.xticks(rotation=45)\n",
    "plt.tight_layout()\n",
    "plt.show()"
   ]
  },
  {
   "cell_type": "markdown",
   "id": "8d5192fb-70ee-44dc-bd5d-8320cad15cd2",
   "metadata": {},
   "source": [
    "Candidate who stood in more than one Constituency"
   ]
  },
  {
   "cell_type": "code",
   "execution_count": null,
   "id": "f32fae6d-b4bb-448b-8434-35c2bccf19fc",
   "metadata": {},
   "outputs": [],
   "source": [
    "candidate_counts = Indian_result.groupby('Leading Candidate').size().reset_index(name='Count')\n",
    "\n",
    "candidates_multiple_constituencies = candidate_counts[candidate_counts['Count'] > 1]\n",
    "\n",
    "print(\"Candidates who stood in more than one constituency:\")\n",
    "print(candidates_multiple_constituencies)"
   ]
  },
  {
   "cell_type": "markdown",
   "id": "ebf113fb-d71c-42d5-acfd-35ef89408fdf",
   "metadata": {},
   "source": [
    "10 states where BJP was second best performing party"
   ]
  },
  {
   "cell_type": "code",
   "execution_count": null,
   "id": "0281353f-e945-4ecb-815a-81f22b5df5fb",
   "metadata": {},
   "outputs": [],
   "source": [
    "state_results = Indian_result.groupby('State').agg({\n",
    "    'Leading Party': lambda x: x.value_counts().index[0],  \n",
    "    'Leading Candidate': 'count' \n",
    "}).reset_index()\n",
    "\n",
    "state_results['BJP Seats'] = Indian_result[Indian_result['Leading Party'] == 'Bharatiya Janata Party'].groupby('State')['Leading Candidate'].count().reset_index()['Leading Candidate']\n",
    "state_results['Second Best Party Seats'] = state_results.apply(lambda row: row['Leading Candidate'] if row['Leading Party'] == 'Bharatiya Janata Party' else 0, axis=1)\n",
    "\n",
    "bjp_second_best_states = state_results.sort_values(by='Second Best Party Seats', ascending=False).head(10)\n",
    "\n",
    "plt.figure(figsize=(12, 6))\n",
    "\n",
    "plt.bar(bjp_second_best_states['State'], bjp_second_best_states['Leading Candidate'], color='blue', label='Best Performing Party')\n",
    "\n",
    "plt.bar(bjp_second_best_states['State'], bjp_second_best_states['BJP Seats'], color='orange', label='BJP')\n",
    "\n",
    "plt.xlabel('States')\n",
    "plt.ylabel('Seats Won')\n",
    "plt.title('Comparison of Seats Won: Best Performing Party vs BJP')\n",
    "plt.xticks(rotation=45)\n",
    "plt.legend()\n",
    "plt.tight_layout()\n",
    "plt.show()"
   ]
  },
  {
   "cell_type": "raw",
   "id": "cd079948-e013-45e0-a39b-7a8dcdbf1c3f",
   "metadata": {},
   "source": [
    "**Insights Calculated in this notebook by me are**\n",
    "Seats Won By each party\n",
    "Party With Most Trailing Count\n",
    "Top 5 parties with most trailing count\n",
    "Top 5 parties with most seats Won\n",
    "Top 10 states with most constituency \n",
    "Top 10 states with least constituency \n",
    "Candidate with Biggest Victory Margin\n",
    "Candidate with Smallest victory margin\n",
    "Top 10 candidates with Biggest margin wins\n",
    "Top 10 candidates with Smallest margin wins\n",
    "Top 5 states in which bjp won most in terms of percentage \n",
    "Top 10 states in which bjp most number of seats\n",
    "Top 5 states with most seats Won by Congress\n",
    "Top 5 states in which Bjp and congress had the closest fight\n",
    "States in which neither bjp nor congress was the best performing party \n",
    "Average margin of victory for BJP, Congress,TNC and Samajwadi party \n",
    "Top 5 states where congress performed worst\n",
    "Candidates who stood in more than one constituency \n",
    "10 states where bjp was second best performing party\n"
   ]
  },
  {
   "cell_type": "code",
   "execution_count": null,
   "id": "b165408e-148f-4207-87a0-b8a2fda6f293",
   "metadata": {},
   "outputs": [],
   "source": []
  }
 ],
 "metadata": {
  "kernelspec": {
   "display_name": "Python 3 (ipykernel)",
   "language": "python",
   "name": "python3"
  },
  "language_info": {
   "codemirror_mode": {
    "name": "ipython",
    "version": 3
   },
   "file_extension": ".py",
   "mimetype": "text/x-python",
   "name": "python",
   "nbconvert_exporter": "python",
   "pygments_lexer": "ipython3",
   "version": "3.11.5"
  }
 },
 "nbformat": 4,
 "nbformat_minor": 5
}
